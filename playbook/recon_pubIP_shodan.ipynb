{
 "cells": [
  {
   "cell_type": "code",
   "execution_count": null,
   "id": "db7e1098",
   "metadata": {
    "scrolled": true
   },
   "outputs": [],
   "source": [
    "# Imports\n",
    "import sys\n",
    "MIN_REQ_PYTHON = (3,6)\n",
    "if sys.version_info < MIN_REQ_PYTHON:\n",
    "    print('Check the Kernel->Change Kernel menu and ensure that Python 3.6')\n",
    "    print('or later is selected as the active kernel.')\n",
    "    sys.exit(\"Python %s.%s or later is required.\\n\" % MIN_REQ_PYTHON)\n",
    "import shodan\n",
    "import requests\n",
    "import json\n",
    "import pandas as pd\n",
    "from pandas.io.json import json_normalize\n",
    "from pandasgui import show\n",
    "import string\n",
    "import datetime\n",
    "from tkinter import Tk\n",
    "from tkinter.filedialog import askopenfilename"
   ]
  },
  {
   "cell_type": "code",
   "execution_count": null,
   "id": "2222518c",
   "metadata": {
    "scrolled": true
   },
   "outputs": [],
   "source": [
    "# INPUT AN IP LIST  \n",
    "# ATTENTION: set the first line of the file to 'IP\\r\\n'\n",
    "Tk().withdraw() # we don't want a full GUI, so keep the root window from appearing\n",
    "filename = askopenfilename() # show an \"Open\" dialog box and return the path to the selected file\n",
    "print(filename)\n",
    "\n",
    "iplist = pd.read_csv(filename)\n",
    "print(iplist)"
   ]
  },
  {
   "cell_type": "code",
   "execution_count": null,
   "id": "dcc53581",
   "metadata": {
    "scrolled": false
   },
   "outputs": [],
   "source": [
    "# SHODAN SEARCH V1: JSON FILES SAVED IN THE CURRENT DIR\n",
    "SHODAN_API_KEY = input()\n",
    "api = shodan.Shodan(SHODAN_API_KEY)\n",
    "jj = {}\n",
    "ww = list()\n",
    "xx = list()\n",
    "\n",
    "def save_shodan_result(IP):\n",
    "    url = \"https://api.shodan.io/shodan/host/\"+IP+\"?key=\"+SHODAN_API_KEY\n",
    "    res_req = requests.request(\"GET\", url)\n",
    "    res_json = res_req.json()\n",
    "    df = pd.json_normalize(res_json)\n",
    "\n",
    "    current_date = datetime.datetime.now()\n",
    "    cdate = str(current_date.year) + f'{current_date.month:02d}' + f'{current_date.day:02d}'\n",
    "    input_file = \"./shodan_result_\" + IP + \"_\" + cdate + \".csv\"\n",
    "    df.to_csv(input_file)\n",
    "    return input_file\n",
    "\n",
    "#LOOP to query the public ips in SHODAN\n",
    "for IP_ADDR in iplist['IP']:\n",
    "    if not IP_ADDR == \"\" and not IP_ADDR == \"None\" :\n",
    "        #IP_ADDR = IP_ADDR.strip('\\'[]')\n",
    "        print(\"New shodan result: \", save_shodan_result(IP_ADDR))"
   ]
  },
  {
   "cell_type": "code",
   "execution_count": null,
   "id": "dcc53581",
   "metadata": {
    "scrolled": false
   },
   "outputs": [],
   "source": [
    "# SHODAN SEARCH V2: JSON FILES SAVED WITHIN A NEW FOLDER IN THE CURRENT DIR \n",
    "from pathlib import Path\n",
    "\n",
    "SHODAN_API_KEY = input()\n",
    "api = shodan.Shodan(SHODAN_API_KEY)\n",
    "jj = {}\n",
    "ww = list()\n",
    "xx = list()\n",
    "\n",
    "# create the folder where to save the json results\n",
    "current_date = datetime.datetime.now()\n",
    "cdate = str(current_date.year) + f'{current_date.month:02d}' + f'{current_date.day:02d}' + f'{current_date.hour:02d}'  + f'{current_date.minute:02d}' \n",
    "Path(cdate).mkdir(parents=True, exist_ok=True)\n",
    "\n",
    "def save_shodan_result(IP):\n",
    "    url = \"https://api.shodan.io/shodan/host/\"+IP+\"?key=\"+SHODAN_API_KEY\n",
    "    res_req = requests.request(\"GET\", url)\n",
    "    res_json = res_req.json()\n",
    "    df = pd.json_normalize(res_json)\n",
    "\n",
    "    input_file = \"./\" + cdate + \"/shodan_result_\" + IP + \"_\" + cdate + \".json\"\n",
    "    df.to_json(input_file)\n",
    "    return input_file\n",
    "\n",
    "#LOOP to query the public ips in SHODAN\n",
    "for IP_ADDR in iplist['IP']:\n",
    "    if not IP_ADDR == \"\" and not IP_ADDR == \"None\" :\n",
    "        #IP_ADDR = IP_ADDR.strip('\\'[]')\n",
    "        print(\"New shodan result: \", save_shodan_result(IP_ADDR))"
   ]
  },
  {
   "cell_type": "code",
   "execution_count": null,
   "metadata": {},
   "outputs": [],
   "source": [
    "print(datetime.datetime.now())\n"
   ]
  },
  {
   "cell_type": "code",
   "execution_count": null,
   "id": "49ecf491",
   "metadata": {},
   "outputs": [],
   "source": [
    "# SELECT A SHODAN JSON FILE\n",
    "Tk().withdraw()\n",
    "f = askopenfilename(initialdir=\".\", filetypes=[(\"Json File\", \"*.json\")], title=\"Choose a file.\")\n",
    "data = []\n",
    "\n",
    "json_string = None\n",
    "try:\n",
    "    with open(f, 'r', encoding='utf8') as fin:\n",
    "        json_string = fin.read()\n",
    "        data = json.loads(json_string)\n",
    "        #formatted_json = json.dumps(parsed_json, indent = 4,sort_keys=True)\n",
    "except Exception:\n",
    "    print(\"Error Message\", 'File not selected')\n",
    "\n",
    "\n"
   ]
  },
  {
   "cell_type": "code",
   "execution_count": null,
   "id": "50db5627",
   "metadata": {},
   "outputs": [],
   "source": [
    "toto = jmespath.search(\"ip_str\",data)\n",
    "titi = jmespath.search(\"data[*].port\",data)\n",
    "tutu = jmespath.search(\"data[*].ldap\",data)\n",
    "print(toto)\n",
    "print(titi)\n",
    "print(tutu)\n"
   ]
  },
  {
   "cell_type": "code",
   "execution_count": null,
   "id": "962c81d4",
   "metadata": {},
   "outputs": [],
   "source": [
    "f.close()"
   ]
  },
  {
   "cell_type": "code",
   "execution_count": null,
   "id": "49ecf491",
   "metadata": {},
   "outputs": [],
   "source": [
    "# SELECT A FOLDER CONTAINING SHODAN JSON FILES\n",
    "from tkinter.filedialog import askdirectory \n",
    "\n",
    "Tk().withdraw() # we don't want a full GUI, so keep the root window from appearing\n",
    "dir = askdirectory() # show an \"Open\" dialog box and return the path to the selected file\n",
    "\n",
    "os.chdir(dir)\n",
    "\n",
    "#Tk().withdraw()\n",
    "#f = askopenfilename(initialdir=\".\", filetypes=[(\"Json File\", \"*.json\")], title=\"Select a folder.\")\n",
    "#\n",
    "#data = []\n",
    "#\n",
    "#json_string = None\n",
    "#try:\n",
    "#    with open(f, 'r', encoding='utf8') as fin:\n",
    "#        json_string = fin.read()\n",
    "#        data = json.loads(json_string)\n",
    "#        #formatted_json = json.dumps(parsed_json, indent = 4,sort_keys=True)\n",
    "#except Exception:\n",
    "#    print(\"Error Message\", 'Folder not selected')"
   ]
  },
  {
   "cell_type": "code",
   "execution_count": null,
   "metadata": {},
   "outputs": [],
   "source": [
    "# GATHER LDAP DATA\n",
    "# print(data)\n",
    "import jmespath\n",
    "import os\n",
    "\n",
    "files = os.listdir('.')\n",
    "\n",
    "for file in files:\n",
    "    data = []\n",
    "    with open(file, 'r', encoding='utf8') as fin:\n",
    "        json_string = fin.read()\n",
    "        data = json.loads(json_string)\n",
    "        toto = jmespath.search(\"ip_str\",data)\n",
    "        titi = jmespath.search(\"data[*].port\",data)\n",
    "        print(toto)\n",
    "        print(titi)\n",
    "        file.close()"
   ]
  }
 ],
 "metadata": {
  "kernelspec": {
   "display_name": "Python 3.8.8 ('base')",
   "language": "python",
   "name": "python3"
  },
  "language_info": {
   "codemirror_mode": {
    "name": "ipython",
    "version": 3
   },
   "file_extension": ".py",
   "mimetype": "text/x-python",
   "name": "python",
   "nbconvert_exporter": "python",
   "pygments_lexer": "ipython3",
   "version": "3.8.8"
  },
  "vscode": {
   "interpreter": {
    "hash": "7307bd6c5b0f4221b86148b5c729dd4788a5dc4445738a3debd1c90d91837807"
   }
  }
 },
 "nbformat": 4,
 "nbformat_minor": 5
}
