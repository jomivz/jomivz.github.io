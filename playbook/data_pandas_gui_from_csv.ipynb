{
 "cells": [
  {
   "cell_type": "code",
   "execution_count": 1,
   "metadata": {},
   "outputs": [],
   "source": [
    "# IMPORTS\n",
    "import csv\n",
    "from networksdb import NetworksDB\n",
    "import pandas as pd\n",
    "import datetime"
   ]
  },
  {
   "cell_type": "code",
   "execution_count": 2,
   "metadata": {},
   "outputs": [
    {
     "ename": "AttributeError",
     "evalue": "'NoneType' object has no attribute 'password'",
     "output_type": "error",
     "traceback": [
      "\u001b[1;31m---------------------------------------------------------------------------\u001b[0m",
      "\u001b[1;31mAttributeError\u001b[0m                            Traceback (most recent call last)",
      "\u001b[1;32m<ipython-input-2-5c527ed6a734>\u001b[0m in \u001b[0;36m<module>\u001b[1;34m\u001b[0m\n\u001b[0;32m      8\u001b[0m \u001b[0mkeyring\u001b[0m\u001b[1;33m.\u001b[0m\u001b[0mget_keyring\u001b[0m\u001b[1;33m(\u001b[0m\u001b[1;33m)\u001b[0m\u001b[1;33m\u001b[0m\u001b[1;33m\u001b[0m\u001b[0m\n\u001b[0;32m      9\u001b[0m \u001b[0mnetdbio_apikey\u001b[0m \u001b[1;33m=\u001b[0m \u001b[0mkeyring\u001b[0m\u001b[1;33m.\u001b[0m\u001b[0mget_credential\u001b[0m\u001b[1;33m(\u001b[0m\u001b[1;34m\"networksdb\"\u001b[0m\u001b[1;33m,\u001b[0m \u001b[1;34m\"None\"\u001b[0m\u001b[1;33m)\u001b[0m\u001b[1;33m\u001b[0m\u001b[1;33m\u001b[0m\u001b[0m\n\u001b[1;32m---> 10\u001b[1;33m \u001b[0mnetdbio_api\u001b[0m \u001b[1;33m=\u001b[0m \u001b[0mNetworksDB\u001b[0m\u001b[1;33m(\u001b[0m\u001b[0mnetdbio_apikey\u001b[0m\u001b[1;33m.\u001b[0m\u001b[0mpassword\u001b[0m\u001b[1;33m)\u001b[0m\u001b[1;33m\u001b[0m\u001b[1;33m\u001b[0m\u001b[0m\n\u001b[0m",
      "\u001b[1;31mAttributeError\u001b[0m: 'NoneType' object has no attribute 'password'"
     ]
    }
   ],
   "source": [
    "# OPTION 1 : import the key api named 'networksdb' from the keyring manager\n",
    "# below the python cli (to execute once) create the api key : \n",
    "# >>> import keyring\n",
    "# >>> import readline\n",
    "# >>> keyring.set_password(service_name=\"networksdb\",username=\"None\",password=\"xxx\")\n",
    "# >>> readline.clear_history()\n",
    "import keyring\n",
    "keyring.get_keyring()\n",
    "netdbio_apikey = keyring.get_credential(\"networksdb\", \"None\")\n",
    "netdbio_api = NetworksDB(netdbio_apikey.password)"
   ]
  },
  {
   "cell_type": "code",
   "execution_count": null,
   "metadata": {},
   "outputs": [],
   "source": [
    "# OPTION 2 : import the key api named from the environment variable \n",
    "import os\n",
    "#netdbio_apikey = os.environ['NETDBIO_API_KEY']\n",
    "netdbio_apikey = input()\n",
    "netdbio_api = NetworksDB(netdbio_apikey)"
   ]
  },
  {
   "cell_type": "code",
   "execution_count": null,
   "metadata": {},
   "outputs": [],
   "source": [
    "# INPUT CSV FILE \n",
    "from tkinter import Tk\n",
    "from tkinter.filedialog import askopenfilename\n",
    "\n",
    "Tk().withdraw() # we don't want a full GUI, so keep the root window from appearing\n",
    "filename = askopenfilename() # show an \"Open\" dialog box and return the path to the selected file\n",
    "print(filename)\n",
    "\n",
    "ip_list = pd.read_csv(filename)\n",
    "#print(ip_list)"
   ]
  },
  {
   "cell_type": "code",
   "execution_count": null,
   "metadata": {},
   "outputs": [],
   "source": [
    "# \n",
    "import ipaddress \n",
    "\n",
    "def get_ipranges(list,res):\n",
    "    \n",
    "    for idx,ip in list.iterrows() :\n",
    "        try:\n",
    "            ip_data = netdbio_api.ip_info(ip[0])\n",
    "            net = ip_data.network.cidr\n",
    "            res.append([ip_data.network.cidr, ip_data.network.netname,ip_data.organisation.name])\n",
    "        except Exception as e:\n",
    "            print(e)"
   ]
  },
  {
   "cell_type": "code",
   "execution_count": null,
   "metadata": {},
   "outputs": [],
   "source": [
    "net_list = [[]]\n",
    "get_ipranges(ip_list,net_list)"
   ]
  },
  {
   "cell_type": "code",
   "execution_count": null,
   "metadata": {},
   "outputs": [],
   "source": [
    "df = pd.DataFrame(net_list, columns=['net_name', 'net_desc', 'org_name'])\n",
    "df = df.drop_duplicates(subset=None, keep=\"first\", inplace=False)\n",
    "print(df)\n",
    "#    pd.set_option('display.max_colwidth', None)            \n",
    "#    df = pd.DataFrame(ip_net_list, columns=['net_name', 'desc', 'IP'])\n",
    "#    df.set_index('net_name', inplace=True)\n",
    "#    current_date = datetime.datetime.now()\n",
    "#    cdate = str(current_date.year) + f'{current_date.month:02d}' + f'{current_date.day:02d}'\n",
    "#    input_file = \"~/NetDBio_IPranges_\" + ip_host + \"_\" + cdate\n",
    "#    df.to_csv(str(input_file + '.csv'))"
   ]
  },
  {
   "cell_type": "code",
   "execution_count": null,
   "metadata": {},
   "outputs": [],
   "source": [
    "# TEST APIprint(ip_data)\n",
    "#ip_data = netdbio_api.ip_info(\"8.8.8.8\")\n",
    "#print(ip_data)"
   ]
  }
 ],
 "metadata": {
  "kernelspec": {
   "display_name": "Python 3.8.8 ('base')",
   "language": "python",
   "name": "python3"
  },
  "language_info": {
   "codemirror_mode": {
    "name": "ipython",
    "version": 3
   },
   "file_extension": ".py",
   "mimetype": "text/x-python",
   "name": "python",
   "nbconvert_exporter": "python",
   "pygments_lexer": "ipython3",
   "version": "3.8.8"
  },
  "orig_nbformat": 4,
  "vscode": {
   "interpreter": {
    "hash": "7307bd6c5b0f4221b86148b5c729dd4788a5dc4445738a3debd1c90d91837807"
   }
  }
 },
 "nbformat": 4,
 "nbformat_minor": 2
}
