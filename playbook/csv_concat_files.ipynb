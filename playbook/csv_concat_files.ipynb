{
 "cells": [
  {
   "cell_type": "code",
   "execution_count": null,
   "id": "1f3878ae",
   "metadata": {},
   "outputs": [],
   "source": [
    "# INITIALIZATION\n",
    "# INIT : IMPORTS\n",
    "MIN_REQ_PYTHON = (3,6)\n",
    "import pandas as pd\n",
    "from pandasgui import show\n",
    "import string"
   ]
  },
  {
   "cell_type": "code",
   "execution_count": null,
   "id": "05047907",
   "metadata": {},
   "outputs": [],
   "source": [
    "# INPUT CSV FILE 1 & 2\n",
    "# warning : expect the header 'endpoint_name' when no FQDN, no header otherwise\n",
    "from tkinter import Tk\n",
    "from tkinter.filedialog import askopenfilename\n",
    "\n",
    "Tk().withdraw() # we don't want a full GUI, so keep the root window from appearing\n",
    "\n",
    "# FILE 1 : XDR\n",
    "filename = askopenfilename() # show an \"Open\" dialog box and return the path to the selected file\n",
    "print(filename)\n",
    "df1 = pd.read_csv(filename,names=['endpoint_name'])\n",
    "df1 = df1['endpoint_name'].str.upper()\n",
    "\n",
    "# FILE 2\n",
    "filename = askopenfilename() # show an \"Open\" dialog box and return the path to the selected file\n",
    "print(filename)\n",
    "df2 = pd.read_csv(filename)"
   ]
  },
  {
   "cell_type": "code",
   "execution_count": null,
   "id": "627f4715",
   "metadata": {},
   "outputs": [],
   "source": [
    "# PREPARE DF2\n",
    "df21 = df2['endpoint_name'].str.upper()\n",
    "#df21.rename(columns={0: 'endpoint_name'}, inplace=True)\n",
    "df22 = pd.concat([df21,df2],join=\"inner\",ignore_index=True,axis=1)\n",
    "#display(df22)"
   ]
  },
  {
   "cell_type": "code",
   "execution_count": null,
   "id": "e2181256",
   "metadata": {},
   "outputs": [],
   "source": [
    "# OPTIONAL : removing the FQDN\n",
    "df1[['endpoint_name', 'domain']] = df1['endpoint_name'].str.split('.', 1, expand=True)\n",
    "df2[['endpoint_name', 'domain']] = df1['endpoint_name'].str.split('.', 1, expand=True)\n",
    "\n",
    "print(df1)\n",
    "print(df2)"
   ]
  },
  {
   "cell_type": "code",
   "execution_count": null,
   "id": "d1fa0f70",
   "metadata": {},
   "outputs": [],
   "source": [
    "# DISPLAY HOSTS WITHOUT XDR\n",
    "#df3 = pd.concat([df1['endpoint_name'],df2['endpoint_name']]).drop_duplicates(keep=False)\n",
    "#df3 = pd.concat([df1,df2],join=\"inner\",ignore_index=True,axis=1)\n",
    "df3 = pd.merge(df1,df2,on='endpoint_name',how='left')\n",
    "gui = show(df3)"
   ]
  },
  {
   "cell_type": "code",
   "execution_count": null,
   "id": "49d9f5d2",
   "metadata": {},
   "outputs": [],
   "source": []
  },
  {
   "cell_type": "code",
   "execution_count": null,
   "id": "82a16d82",
   "metadata": {},
   "outputs": [],
   "source": [
    "display(df2)"
   ]
  }
 ],
 "metadata": {
  "kernelspec": {
   "display_name": "Python 3.8.8 ('base')",
   "language": "python",
   "name": "python3"
  },
  "language_info": {
   "codemirror_mode": {
    "name": "ipython",
    "version": 3
   },
   "file_extension": ".py",
   "mimetype": "text/x-python",
   "name": "python",
   "nbconvert_exporter": "python",
   "pygments_lexer": "ipython3",
   "version": "3.8.8"
  },
  "vscode": {
   "interpreter": {
    "hash": "7307bd6c5b0f4221b86148b5c729dd4788a5dc4445738a3debd1c90d91837807"
   }
  }
 },
 "nbformat": 4,
 "nbformat_minor": 5
}
