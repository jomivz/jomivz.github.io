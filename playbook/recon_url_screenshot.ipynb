{
 "cells": [
  {
   "cell_type": "code",
   "execution_count": null,
   "metadata": {},
   "outputs": [],
   "source": [
    "# UPLOAD URL LIST FROM LOCAL FILESYSTEM \n",
    "# PRE-REQUISITE: install the chromedrive from https://googlechromelabs.github.io/chrome-for-testing/\n",
    "# INSTALL GUIDE: https://tecadmin.net/setup-selenium-chromedriver-on-ubuntu/ (JAVA INSTALL CAN BE SKIPPED)\n",
    "import pandas as pd \n",
    "from tkinter import Tk\n",
    "from tkinter.filedialog import askopenfilename\n",
    "\n",
    "Tk().withdraw() # we don't want a full GUI, so keep the root window from appearing\n",
    "filename = askopenfilename() # show an \"Open\" dialog box and return the path to the selected file\n",
    "print(filename)\n",
    "\n",
    "domlist = pd.read_csv(filename)\n",
    "domlist"
   ]
  },
  {
   "cell_type": "code",
   "execution_count": null,
   "metadata": {},
   "outputs": [],
   "source": [
    "from selenium import webdriver\n",
    "from selenium.webdriver.chrome.service import Service\n",
    "from selenium.webdriver.chrome.options import Options\n",
    "import os\n",
    "\n",
    "def take_screenshots(url_list, save_dir):\n",
    "    # Set up Chrome options\n",
    "    chrome_options = Options()\n",
    "    chrome_options.add_argument(\"--headless\")  # Run in headless mode\n",
    "    chrome_options.add_argument(\"--disable-gpu\")\n",
    "    chrome_options.add_argument(\"--window-size=1920x1080\")\n",
    "\n",
    "    # Specify the path to your ChromeDriver\n",
    "    service = Service('/usr/local/bin/chromedriver')\n",
    "\n",
    "    # Initialize the WebDriver\n",
    "    driver = webdriver.Chrome(service=service, options=chrome_options)\n",
    "\n",
    "    # Create the save directory if it doesn't exist\n",
    "    if not os.path.exists(save_dir):\n",
    "        os.makedirs(save_dir)\n",
    "\n",
    "    # Iterate over the list of URLs\n",
    "    for index,url in url_list.iterrows():\n",
    "        try:\n",
    "            # Navigate to the URL\n",
    "            driver.get(url[0])\n",
    "\n",
    "            # Extract the domain name from the URL to use as the filename\n",
    "            domain_name = url[0].replace('https://', '').replace('http://', '').split('/')[0]\n",
    "            save_path = os.path.join(save_dir, f'{domain_name}.png')\n",
    "\n",
    "            # Take a screenshot\n",
    "            driver.save_screenshot(save_path)\n",
    "            print(f'Screenshot saved: {save_path}')\n",
    "        except Exception as e:\n",
    "            print(f'Failed to take screenshot of {url}: {e}')\n",
    "\n",
    "    # Close the browser\n",
    "    driver.quit()\n",
    "\n",
    "# Example usage\n",
    "#domlist = [\n",
    "#    'https://www.example.com',\n",
    "#    'https://www.google.com',\n",
    "#    'https://www.github.com'\n",
    "#]\n",
    "\n",
    "save_dir = 'screenshots'\n",
    "take_screenshots(domlist, save_dir)"
   ]
  }
 ],
 "metadata": {
  "kernelspec": {
   "display_name": "Python 3 (ipykernel)",
   "language": "python",
   "name": "python3"
  },
  "language_info": {
   "codemirror_mode": {
    "name": "ipython",
    "version": 3
   },
   "file_extension": ".py",
   "mimetype": "text/x-python",
   "name": "python",
   "nbconvert_exporter": "python",
   "pygments_lexer": "ipython3",
   "version": "3.12.3"
  },
  "orig_nbformat": 4,
  "vscode": {
   "interpreter": {
    "hash": "7307bd6c5b0f4221b86148b5c729dd4788a5dc4445738a3debd1c90d91837807"
   }
  }
 },
 "nbformat": 4,
 "nbformat_minor": 2
}
