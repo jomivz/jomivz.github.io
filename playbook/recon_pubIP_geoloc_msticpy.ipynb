{
 "cells": [
  {
   "cell_type": "code",
   "execution_count": null,
   "metadata": {
    "scrolled": true
   },
   "outputs": [],
   "source": [
    "# Imports\n",
    "import sys\n",
    "MIN_REQ_PYTHON = (3,6)\n",
    "if sys.version_info < MIN_REQ_PYTHON:\n",
    "    print('Check the Kernel->Change Kernel menu and ensure that Python 3.6')\n",
    "    print('or later is selected as the active kernel.')\n",
    "    sys.exit(\"Python %s.%s or later is required.\\n\" % MIN_REQ_PYTHON)\n",
    "\n",
    "\n",
    "from IPython.display import display\n",
    "import pandas as pd\n",
    "\n",
    "import msticpy.sectools as sectools\n",
    "import msticpy.nbtools as mas\n",
    "from msticpy.sectools import VTLookup, IoCExtract\n",
    "from msticpy.sectools.geoip import GeoLiteLookup, IPStackLookup\n",
    "from msticpy.nbtools.entityschema import IpAddress, GeoLocation\n",
    "from msticpy.nbtools.foliummap import FoliumMap"
   ]
  },
  {
   "cell_type": "code",
   "execution_count": null,
   "metadata": {},
   "outputs": [],
   "source": [
    "# Enter your VT Key here\n",
    "vt_key = mas.nbwidgets.GetEnvironmentKey(env_var='VT_API_KEY',\n",
    "                           help_str='To obtain an API key sign up here https://www.virustotal.com/',\n",
    "                           prompt='Virus Total API key:')\n",
    "vt_key.display()"
   ]
  },
  {
   "cell_type": "code",
   "execution_count": null,
   "metadata": {},
   "outputs": [],
   "source": [
    "# Create an instance of the class\n",
    "\n",
    "vt_lookup = sectools.VTLookup(vt_key.value, verbosity=2)"
   ]
  },
  {
   "cell_type": "code",
   "execution_count": null,
   "metadata": {},
   "outputs": [],
   "source": [
    "# How these map to VT lookup types\n",
    "VTLookup._VT_TYPE_MAP"
   ]
  },
  {
   "cell_type": "code",
   "execution_count": null,
   "metadata": {},
   "outputs": [],
   "source": [
    "# Load a CSV to build the iplist DF, aka the public IP list to enrich  \n",
    "# ATTENTION: set the first line of the file to 'IP\\r\\n'\n",
    "from tkinter import Tk\n",
    "from tkinter.filedialog import askopenfilename\n",
    "\n",
    "Tk().withdraw() # we don't want a full GUI, so keep the root window from appearing\n",
    "filename = askopenfilename() # show an \"Open\" dialog box and return the path to the selected file\n",
    "print(filename)\n",
    "\n",
    "iplist = pd.read_csv(filename)\n",
    "print(iplist)"
   ]
  },
  {
   "cell_type": "code",
   "execution_count": null,
   "metadata": {},
   "outputs": [],
   "source": [
    "# Check the reputation of the iplist in VirusTotal\n",
    "ioc_extractor = IoCExtract()\n",
    "vt_lookup = VTLookup(vt_key.value, verbosity=2)\n",
    "output_df = ioc_extractor.extract(data=iplist, \n",
    "                                  columns=['IP'], \n",
    "                                  ioc_types=vt_lookup.supported_ioc_types)\n",
    "output_df"
   ]
  },
  {
   "cell_type": "code",
   "execution_count": null,
   "metadata": {
    "scrolled": true
   },
   "outputs": [],
   "source": [
    "from past.builtins import xrange\n",
    "vt_lookup = VTLookup(vt_key.value, verbosity=2)\n",
    "vt_res = [[]]\n",
    "\n",
    "# Submit a subset of the found IoCs (ignore dns since a lot of )\n",
    "vt_results = vt_lookup.lookup_iocs(data=output_df, \n",
    "                                   type_col='IoCType', \n",
    "                                   src_col='Observable')\n",
    "\n",
    "#clean the DF, deleting uninteresting cols\n",
    "vt_res = vt_results.drop(columns=['IoCType', 'Status', 'ResponseCode', 'RawResponse', 'Resource', 'SourceIndex', 'VerboseMsg', 'Resource', 'ScanId', 'Permalink', 'MD5', 'SHA1', 'SHA256', 'ResolvedIPs'])\n"
   ]
  },
  {
   "cell_type": "code",
   "execution_count": null,
   "metadata": {},
   "outputs": [],
   "source": [
    "iplocation = GeoLiteLookup()\n",
    "vt_res = iplocation.df_lookup_ip(vt_res,'Observable')\n",
    "display(vt_res)"
   ]
  },
  {
   "cell_type": "code",
   "execution_count": null,
   "metadata": {},
   "outputs": [],
   "source": [
    "# Load a CSV to build the iplist DF, aka the public IP list to enrich  \n",
    "from tkinter import Tk\n",
    "from tkinter.filedialog import asksaveasfile\n",
    "\n",
    "Tk().withdraw() # we don't want a full GUI, so keep the root window from appearing\n",
    "filename = asksaveasfile() # show an \"Open\" dialog box and return the path to the selected file\n",
    "\n",
    "vt_res.to_csv(filename, index=False) "
   ]
  },
  {
   "cell_type": "code",
   "execution_count": null,
   "metadata": {},
   "outputs": [],
   "source": [
    "folium_map = FoliumMap(location=[vt_res.Latitude.mean(), vt_res.Longitude.mean()], zoom_start=1)\n",
    "# Set Icon properties to display\n",
    "icon_props = {\"color\": \"green\"}\n",
    "\n",
    "def create_ip_entity(row):\n",
    "    ip_ent = IpAddress(Address=row[\"Observable\"])\n",
    "    geo_loc = create_geo_entity(row)\n",
    "    ip_ent.Location = geo_loc\n",
    "    return ip_ent\n",
    "\n",
    "def create_geo_entity(row):\n",
    "    # get subset of fields for GeoLocation\n",
    "    loc_props = row[[\"CountryCode\", \"CountryName\",\"State\", \"City\", \"Longitude\", \"Latitude\"]]\n",
    "    geo_loc = GeoLocation(**loc_props.to_dict())\n",
    "    return geo_loc\n",
    "\n",
    "# Set additional properties to display in tooltips\n",
    "# in AdditionalData property of IpAddress entities\n",
    "geo_locs = list(vt_res.apply(create_geo_entity, axis=1).values)\n",
    "ip_ents = list(vt_res.apply(create_ip_entity, axis=1).values)\n",
    "folium_map.add_ip_cluster(ip_entities=ip_ents, **icon_props)\n",
    "\n",
    "# display the map (or just have folium_map as the last statement\n",
    "# of the cell - Jupyter will use display() automatically)\n",
    "display(folium_map)\n",
    "#folium_map.save('result.html')\n",
    "#os.system('explorer.exe result.html')"
   ]
  }
 ],
 "metadata": {
  "celltoolbar": "Tags",
  "hide_input": false,
  "kernelspec": {
   "display_name": "Python 3.8.8 ('base')",
   "language": "python",
   "name": "python3"
  },
  "language_info": {
   "codemirror_mode": {
    "name": "ipython",
    "version": 3
   },
   "file_extension": ".py",
   "mimetype": "text/x-python",
   "name": "python",
   "nbconvert_exporter": "python",
   "pygments_lexer": "ipython3",
   "version": "3.8.8"
  },
  "toc": {
   "base_numbering": 1,
   "nav_menu": {
    "height": "318.996px",
    "width": "320.994px"
   },
   "number_sections": false,
   "sideBar": true,
   "skip_h1_title": false,
   "title_cell": "Table of Contents",
   "title_sidebar": "Contents",
   "toc_cell": false,
   "toc_position": {
    "height": "calc(100% - 180px)",
    "left": "10px",
    "top": "150px",
    "width": "165px"
   },
   "toc_section_display": true,
   "toc_window_display": true
  },
  "varInspector": {
   "cols": {
    "lenName": 16,
    "lenType": 16,
    "lenVar": 40
   },
   "kernels_config": {
    "python": {
     "delete_cmd_postfix": "",
     "delete_cmd_prefix": "del ",
     "library": "var_list.py",
     "varRefreshCmd": "print(var_dic_list())"
    },
    "r": {
     "delete_cmd_postfix": ") ",
     "delete_cmd_prefix": "rm(",
     "library": "var_list.r",
     "varRefreshCmd": "cat(var_dic_list()) "
    }
   },
   "position": {
    "height": "406.193px",
    "left": "1468.4px",
    "right": "20px",
    "top": "120px",
    "width": "456.572px"
   },
   "types_to_exclude": [
    "module",
    "function",
    "builtin_function_or_method",
    "instance",
    "_Feature"
   ],
   "window_display": false
  },
  "vscode": {
   "interpreter": {
    "hash": "7307bd6c5b0f4221b86148b5c729dd4788a5dc4445738a3debd1c90d91837807"
   }
  },
  "widgets": {
   "application/vnd.jupyter.widget-state+json": {
    "state": {},
    "version_major": 2,
    "version_minor": 0
   }
  }
 },
 "nbformat": 4,
 "nbformat_minor": 4
}
