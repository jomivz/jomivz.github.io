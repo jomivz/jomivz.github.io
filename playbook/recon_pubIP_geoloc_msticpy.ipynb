{
 "cells": [
  {
   "cell_type": "code",
   "execution_count": 1,
   "metadata": {
    "scrolled": true
   },
   "outputs": [],
   "source": [
    "# Imports\n",
    "import sys\n",
    "MIN_REQ_PYTHON = (3,6)\n",
    "if sys.version_info < MIN_REQ_PYTHON:\n",
    "    print('Check the Kernel->Change Kernel menu and ensure that Python 3.6')\n",
    "    print('or later is selected as the active kernel.')\n",
    "    sys.exit(\"Python %s.%s or later is required.\\n\" % MIN_REQ_PYTHON)\n",
    "\n",
    "\n",
    "from IPython.display import display\n",
    "import pandas as pd\n",
    "\n",
    "import msticpy.sectools as sectools\n",
    "import msticpy.nbtools as mas\n",
    "from msticpy.sectools import VTLookup, IoCExtract\n",
    "from msticpy.sectools.geoip import GeoLiteLookup, IPStackLookup\n",
    "from msticpy.nbtools.entityschema import IpAddress, GeoLocation\n",
    "from msticpy.nbtools.foliummap import FoliumMap"
   ]
  },
  {
   "cell_type": "code",
   "execution_count": 2,
   "metadata": {},
   "outputs": [
    {
     "data": {
      "application/vnd.jupyter.widget-view+json": {
       "model_id": "531c97338ed5492c931bb621f28eafdd",
       "version_major": 2,
       "version_minor": 0
      },
      "text/plain": [
       "HTML(value='To obtain an API key sign up here https://www.virustotal.com/')"
      ]
     },
     "metadata": {},
     "output_type": "display_data"
    },
    {
     "data": {
      "application/vnd.jupyter.widget-view+json": {
       "model_id": "76c393898dc544c49295ea93e5a8effe",
       "version_major": 2,
       "version_minor": 0
      },
      "text/plain": [
       "HBox(children=(Text(value='', description='Virus Total API key:', layout=Layout(width='50%'), style=Descriptio…"
      ]
     },
     "metadata": {},
     "output_type": "display_data"
    }
   ],
   "source": [
    "# Enter your VT Key here\n",
    "vt_key = mas.nbwidgets.GetEnvironmentKey(env_var='VT_API_KEY',\n",
    "                           help_str='To obtain an API key sign up here https://www.virustotal.com/',\n",
    "                           prompt='Virus Total API key:')\n",
    "vt_key.display()"
   ]
  },
  {
   "cell_type": "code",
   "execution_count": 3,
   "metadata": {},
   "outputs": [],
   "source": [
    "# Create an instance of the class\n",
    "\n",
    "vt_lookup = sectools.VTLookup(vt_key.value, verbosity=2)"
   ]
  },
  {
   "cell_type": "code",
   "execution_count": 4,
   "metadata": {},
   "outputs": [
    {
     "data": {
      "text/plain": [
       "{'ipv4': 'ip-address',\n",
       " 'dns': 'domain',\n",
       " 'url': 'url',\n",
       " 'md5_hash': 'file',\n",
       " 'sha1_hash': 'file',\n",
       " 'sh256_hash': 'file'}"
      ]
     },
     "execution_count": 4,
     "metadata": {},
     "output_type": "execute_result"
    }
   ],
   "source": [
    "# How these map to VT lookup types\n",
    "VTLookup._VT_TYPE_MAP"
   ]
  },
  {
   "cell_type": "code",
   "execution_count": 8,
   "metadata": {},
   "outputs": [
    {
     "name": "stdout",
     "output_type": "stream",
     "text": [
      "C:/Users/michelj/Documents/_SHARE/_ldap.txt\n",
      "              IP\n",
      "0  13.58.165.222\n",
      "1  45.60.241.240\n",
      "2  45.60.251.240\n",
      "3   185.81.4.152\n"
     ]
    }
   ],
   "source": [
    "# Load a CSV to build the iplist DF, aka the public IP list to enrich  \n",
    "# ATTENTION: set the first line of the file to 'IP\\r\\n'\n",
    "from tkinter import Tk\n",
    "from tkinter.filedialog import askopenfilename\n",
    "\n",
    "Tk().withdraw() # we don't want a full GUI, so keep the root window from appearing\n",
    "filename = askopenfilename() # show an \"Open\" dialog box and return the path to the selected file\n",
    "print(filename)\n",
    "\n",
    "iplist = pd.read_csv(filename)\n",
    "print(iplist)"
   ]
  },
  {
   "cell_type": "code",
   "execution_count": 9,
   "metadata": {},
   "outputs": [
    {
     "data": {
      "text/html": [
       "<div>\n",
       "<style scoped>\n",
       "    .dataframe tbody tr th:only-of-type {\n",
       "        vertical-align: middle;\n",
       "    }\n",
       "\n",
       "    .dataframe tbody tr th {\n",
       "        vertical-align: top;\n",
       "    }\n",
       "\n",
       "    .dataframe thead th {\n",
       "        text-align: right;\n",
       "    }\n",
       "</style>\n",
       "<table border=\"1\" class=\"dataframe\">\n",
       "  <thead>\n",
       "    <tr style=\"text-align: right;\">\n",
       "      <th></th>\n",
       "      <th>IoCType</th>\n",
       "      <th>Observable</th>\n",
       "      <th>SourceIndex</th>\n",
       "      <th>Input</th>\n",
       "    </tr>\n",
       "  </thead>\n",
       "  <tbody>\n",
       "    <tr>\n",
       "      <th>0</th>\n",
       "      <td>ipv4</td>\n",
       "      <td>13.58.165.222</td>\n",
       "      <td>0</td>\n",
       "      <td>13.58.165.222</td>\n",
       "    </tr>\n",
       "    <tr>\n",
       "      <th>1</th>\n",
       "      <td>ipv4</td>\n",
       "      <td>45.60.241.240</td>\n",
       "      <td>1</td>\n",
       "      <td>45.60.241.240</td>\n",
       "    </tr>\n",
       "    <tr>\n",
       "      <th>2</th>\n",
       "      <td>ipv4</td>\n",
       "      <td>45.60.251.240</td>\n",
       "      <td>2</td>\n",
       "      <td>45.60.251.240</td>\n",
       "    </tr>\n",
       "    <tr>\n",
       "      <th>3</th>\n",
       "      <td>ipv4</td>\n",
       "      <td>185.81.4.152</td>\n",
       "      <td>3</td>\n",
       "      <td>185.81.4.152</td>\n",
       "    </tr>\n",
       "  </tbody>\n",
       "</table>\n",
       "</div>"
      ],
      "text/plain": [
       "  IoCType     Observable  SourceIndex          Input\n",
       "0    ipv4  13.58.165.222            0  13.58.165.222\n",
       "1    ipv4  45.60.241.240            1  45.60.241.240\n",
       "2    ipv4  45.60.251.240            2  45.60.251.240\n",
       "3    ipv4   185.81.4.152            3   185.81.4.152"
      ]
     },
     "execution_count": 9,
     "metadata": {},
     "output_type": "execute_result"
    }
   ],
   "source": [
    "# Check the reputation of the iplist in VirusTotal\n",
    "ioc_extractor = IoCExtract()\n",
    "vt_lookup = VTLookup(vt_key.value, verbosity=2)\n",
    "output_df = ioc_extractor.extract(data=iplist, \n",
    "                                  columns=['IP'], \n",
    "                                  ioc_types=vt_lookup.supported_ioc_types)\n",
    "output_df"
   ]
  },
  {
   "cell_type": "code",
   "execution_count": 10,
   "metadata": {
    "scrolled": true
   },
   "outputs": [
    {
     "name": "stdout",
     "output_type": "stream",
     "text": [
      "Submitting observables: \"13.58.165.222\", type \"ipv4\" to VT. (Source index {idx})\n",
      "Submitting observables: \"45.60.241.240\", type \"ipv4\" to VT. (Source index {idx})\n",
      "Submitting observables: \"45.60.251.240\", type \"ipv4\" to VT. (Source index {idx})\n",
      "Submitting observables: \"185.81.4.152\", type \"ipv4\" to VT. (Source index {idx})\n",
      "Submission complete. 4 responses from 4 input rows\n"
     ]
    }
   ],
   "source": [
    "from past.builtins import xrange\n",
    "vt_lookup = VTLookup(vt_key.value, verbosity=2)\n",
    "vt_res = [[]]\n",
    "\n",
    "# Submit a subset of the found IoCs (ignore dns since a lot of )\n",
    "vt_results = vt_lookup.lookup_iocs(data=output_df, \n",
    "                                   type_col='IoCType', \n",
    "                                   src_col='Observable')\n",
    "\n",
    "#clean the DF, deleting uninteresting cols\n",
    "vt_res = vt_results.drop(columns=['IoCType', 'Status', 'ResponseCode', 'RawResponse', 'Resource', 'SourceIndex', 'VerboseMsg', 'Resource', 'ScanId', 'Permalink', 'MD5', 'SHA1', 'SHA256', 'ResolvedIPs'])\n"
   ]
  },
  {
   "cell_type": "code",
   "execution_count": 11,
   "metadata": {},
   "outputs": [
    {
     "data": {
      "text/html": [
       "\n",
       "This product includes GeoLite2 data created by MaxMind, available from\n",
       "<a href=\"https://www.maxmind.com\">https://www.maxmind.com</a>.\n"
      ],
      "text/plain": [
       "<IPython.core.display.HTML object>"
      ]
     },
     "metadata": {},
     "output_type": "display_data"
    },
    {
     "name": "stdout",
     "output_type": "stream",
     "text": [
      "Latest local Maxmind City Database present is older than 30 days. Attempting to download new database to C:\\Users\\michelj\\.msticpy\\GeoLite2\n"
     ]
    },
    {
     "name": "stderr",
     "output_type": "stream",
     "text": [
      "c:\\Users\\michelj\\Anaconda3\\lib\\site-packages\\msticpy\\sectools\\geoip.py:827: UserWarning: GeoIpLookup: DB download failed\n",
      "  warnings.warn(\n",
      "c:\\Users\\michelj\\Anaconda3\\lib\\site-packages\\msticpy\\sectools\\geoip.py:827: UserWarning: GeoIpLookup: Continuing with cached database. Results may inaccurate.\n",
      "  warnings.warn(\n"
     ]
    },
    {
     "data": {
      "text/html": [
       "<div>\n",
       "<style scoped>\n",
       "    .dataframe tbody tr th:only-of-type {\n",
       "        vertical-align: middle;\n",
       "    }\n",
       "\n",
       "    .dataframe tbody tr th {\n",
       "        vertical-align: top;\n",
       "    }\n",
       "\n",
       "    .dataframe thead th {\n",
       "        text-align: right;\n",
       "    }\n",
       "</style>\n",
       "<table border=\"1\" class=\"dataframe\">\n",
       "  <thead>\n",
       "    <tr style=\"text-align: right;\">\n",
       "      <th></th>\n",
       "      <th>Observable</th>\n",
       "      <th>Positives</th>\n",
       "      <th>ResolvedDomains</th>\n",
       "      <th>DetectedUrls</th>\n",
       "      <th>CountryCode</th>\n",
       "      <th>CountryName</th>\n",
       "      <th>State</th>\n",
       "      <th>City</th>\n",
       "      <th>Longitude</th>\n",
       "      <th>Latitude</th>\n",
       "      <th>Asn</th>\n",
       "      <th>edges</th>\n",
       "      <th>Type</th>\n",
       "      <th>AdditionalData</th>\n",
       "      <th>IpAddress</th>\n",
       "    </tr>\n",
       "  </thead>\n",
       "  <tbody>\n",
       "    <tr>\n",
       "      <th>0</th>\n",
       "      <td>13.58.165.222</td>\n",
       "      <td>0</td>\n",
       "      <td></td>\n",
       "      <td></td>\n",
       "      <td>US</td>\n",
       "      <td>United States</td>\n",
       "      <td>Ohio</td>\n",
       "      <td>Columbus</td>\n",
       "      <td>-83.0235</td>\n",
       "      <td>39.9653</td>\n",
       "      <td>None</td>\n",
       "      <td>{}</td>\n",
       "      <td>geolocation</td>\n",
       "      <td>{}</td>\n",
       "      <td>13.58.165.222</td>\n",
       "    </tr>\n",
       "    <tr>\n",
       "      <th>1</th>\n",
       "      <td>45.60.241.240</td>\n",
       "      <td>0</td>\n",
       "      <td>au.eyebuydirect.com, ca.eyebuydirect.com, ca2....</td>\n",
       "      <td></td>\n",
       "      <td>US</td>\n",
       "      <td>United States</td>\n",
       "      <td>None</td>\n",
       "      <td>None</td>\n",
       "      <td>-97.8220</td>\n",
       "      <td>37.7510</td>\n",
       "      <td>None</td>\n",
       "      <td>{}</td>\n",
       "      <td>geolocation</td>\n",
       "      <td>{}</td>\n",
       "      <td>45.60.241.240</td>\n",
       "    </tr>\n",
       "    <tr>\n",
       "      <th>2</th>\n",
       "      <td>45.60.251.240</td>\n",
       "      <td>0</td>\n",
       "      <td>ebdplus.com, eyebuydirect.com, eyebuydirect.fr...</td>\n",
       "      <td></td>\n",
       "      <td>US</td>\n",
       "      <td>United States</td>\n",
       "      <td>None</td>\n",
       "      <td>None</td>\n",
       "      <td>-97.8220</td>\n",
       "      <td>37.7510</td>\n",
       "      <td>None</td>\n",
       "      <td>{}</td>\n",
       "      <td>geolocation</td>\n",
       "      <td>{}</td>\n",
       "      <td>45.60.251.240</td>\n",
       "    </tr>\n",
       "    <tr>\n",
       "      <th>3</th>\n",
       "      <td>185.81.4.152</td>\n",
       "      <td>250</td>\n",
       "      <td>0waste.eu, 100botteghe.com, 2.vineriabonelli.r...</td>\n",
       "      <td>https://orthoquick.it/Folder/index.shtm, https...</td>\n",
       "      <td>IT</td>\n",
       "      <td>Italy</td>\n",
       "      <td>Latium</td>\n",
       "      <td>Rome</td>\n",
       "      <td>12.5113</td>\n",
       "      <td>41.8919</td>\n",
       "      <td>None</td>\n",
       "      <td>{}</td>\n",
       "      <td>geolocation</td>\n",
       "      <td>{}</td>\n",
       "      <td>185.81.4.152</td>\n",
       "    </tr>\n",
       "  </tbody>\n",
       "</table>\n",
       "</div>"
      ],
      "text/plain": [
       "      Observable Positives                                    ResolvedDomains  \\\n",
       "0  13.58.165.222         0                                                      \n",
       "1  45.60.241.240         0  au.eyebuydirect.com, ca.eyebuydirect.com, ca2....   \n",
       "2  45.60.251.240         0  ebdplus.com, eyebuydirect.com, eyebuydirect.fr...   \n",
       "3   185.81.4.152       250  0waste.eu, 100botteghe.com, 2.vineriabonelli.r...   \n",
       "\n",
       "                                        DetectedUrls CountryCode  \\\n",
       "0                                                             US   \n",
       "1                                                             US   \n",
       "2                                                             US   \n",
       "3  https://orthoquick.it/Folder/index.shtm, https...          IT   \n",
       "\n",
       "     CountryName   State      City  Longitude  Latitude   Asn edges  \\\n",
       "0  United States    Ohio  Columbus   -83.0235   39.9653  None    {}   \n",
       "1  United States    None      None   -97.8220   37.7510  None    {}   \n",
       "2  United States    None      None   -97.8220   37.7510  None    {}   \n",
       "3          Italy  Latium      Rome    12.5113   41.8919  None    {}   \n",
       "\n",
       "          Type AdditionalData      IpAddress  \n",
       "0  geolocation             {}  13.58.165.222  \n",
       "1  geolocation             {}  45.60.241.240  \n",
       "2  geolocation             {}  45.60.251.240  \n",
       "3  geolocation             {}   185.81.4.152  "
      ]
     },
     "metadata": {},
     "output_type": "display_data"
    }
   ],
   "source": [
    "iplocation = GeoLiteLookup()\n",
    "vt_res = iplocation.df_lookup_ip(vt_res,'Observable')\n",
    "display(vt_res)"
   ]
  },
  {
   "cell_type": "code",
   "execution_count": null,
   "metadata": {},
   "outputs": [],
   "source": [
    "# Load a CSV to build the iplist DF, aka the public IP list to enrich  \n",
    "from tkinter import Tk\n",
    "from tkinter.filedialog import asksaveasfile\n",
    "\n",
    "Tk().withdraw() # we don't want a full GUI, so keep the root window from appearing\n",
    "filename = asksaveasfile() # show an \"Open\" dialog box and return the path to the selected file\n",
    "\n",
    "vt_res.to_csv(filename, index=False) "
   ]
  },
  {
   "cell_type": "code",
   "execution_count": 12,
   "metadata": {},
   "outputs": [
    {
     "data": {
      "text/html": [
       "<div style=\"width:100%;\"><div style=\"position:relative;width:100%;height:0;padding-bottom:60%;\"><span style=\"color:#565656\">Make this Notebook Trusted to load map: File -> Trust Notebook</span><iframe src=\"about:blank\" style=\"position:absolute;width:100%;height:100%;left:0;top:0;border:none !important;\" data-html=%3C%21DOCTYPE%20html%3E%0A%3Chead%3E%20%20%20%20%0A%20%20%20%20%3Cmeta%20http-equiv%3D%22content-type%22%20content%3D%22text/html%3B%20charset%3DUTF-8%22%20/%3E%0A%20%20%20%20%0A%20%20%20%20%20%20%20%20%3Cscript%3E%0A%20%20%20%20%20%20%20%20%20%20%20%20L_NO_TOUCH%20%3D%20false%3B%0A%20%20%20%20%20%20%20%20%20%20%20%20L_DISABLE_3D%20%3D%20false%3B%0A%20%20%20%20%20%20%20%20%3C/script%3E%0A%20%20%20%20%0A%20%20%20%20%3Cstyle%3Ehtml%2C%20body%20%7Bwidth%3A%20100%25%3Bheight%3A%20100%25%3Bmargin%3A%200%3Bpadding%3A%200%3B%7D%3C/style%3E%0A%20%20%20%20%3Cstyle%3E%23map%20%7Bposition%3Aabsolute%3Btop%3A0%3Bbottom%3A0%3Bright%3A0%3Bleft%3A0%3B%7D%3C/style%3E%0A%20%20%20%20%3Cscript%20src%3D%22https%3A//cdn.jsdelivr.net/npm/leaflet%401.6.0/dist/leaflet.js%22%3E%3C/script%3E%0A%20%20%20%20%3Cscript%20src%3D%22https%3A//code.jquery.com/jquery-1.12.4.min.js%22%3E%3C/script%3E%0A%20%20%20%20%3Cscript%20src%3D%22https%3A//maxcdn.bootstrapcdn.com/bootstrap/3.2.0/js/bootstrap.min.js%22%3E%3C/script%3E%0A%20%20%20%20%3Cscript%20src%3D%22https%3A//cdnjs.cloudflare.com/ajax/libs/Leaflet.awesome-markers/2.0.2/leaflet.awesome-markers.js%22%3E%3C/script%3E%0A%20%20%20%20%3Clink%20rel%3D%22stylesheet%22%20href%3D%22https%3A//cdn.jsdelivr.net/npm/leaflet%401.6.0/dist/leaflet.css%22/%3E%0A%20%20%20%20%3Clink%20rel%3D%22stylesheet%22%20href%3D%22https%3A//maxcdn.bootstrapcdn.com/bootstrap/3.2.0/css/bootstrap.min.css%22/%3E%0A%20%20%20%20%3Clink%20rel%3D%22stylesheet%22%20href%3D%22https%3A//maxcdn.bootstrapcdn.com/bootstrap/3.2.0/css/bootstrap-theme.min.css%22/%3E%0A%20%20%20%20%3Clink%20rel%3D%22stylesheet%22%20href%3D%22https%3A//maxcdn.bootstrapcdn.com/font-awesome/4.6.3/css/font-awesome.min.css%22/%3E%0A%20%20%20%20%3Clink%20rel%3D%22stylesheet%22%20href%3D%22https%3A//cdnjs.cloudflare.com/ajax/libs/Leaflet.awesome-markers/2.0.2/leaflet.awesome-markers.css%22/%3E%0A%20%20%20%20%3Clink%20rel%3D%22stylesheet%22%20href%3D%22https%3A//cdn.jsdelivr.net/gh/python-visualization/folium/folium/templates/leaflet.awesome.rotate.min.css%22/%3E%0A%20%20%20%20%0A%20%20%20%20%20%20%20%20%20%20%20%20%3Cmeta%20name%3D%22viewport%22%20content%3D%22width%3Ddevice-width%2C%0A%20%20%20%20%20%20%20%20%20%20%20%20%20%20%20%20initial-scale%3D1.0%2C%20maximum-scale%3D1.0%2C%20user-scalable%3Dno%22%20/%3E%0A%20%20%20%20%20%20%20%20%20%20%20%20%3Cstyle%3E%0A%20%20%20%20%20%20%20%20%20%20%20%20%20%20%20%20%23map_01e1dd7202214f87ba636a4531e76bc0%20%7B%0A%20%20%20%20%20%20%20%20%20%20%20%20%20%20%20%20%20%20%20%20position%3A%20relative%3B%0A%20%20%20%20%20%20%20%20%20%20%20%20%20%20%20%20%20%20%20%20width%3A%20100.0%25%3B%0A%20%20%20%20%20%20%20%20%20%20%20%20%20%20%20%20%20%20%20%20height%3A%20100.0%25%3B%0A%20%20%20%20%20%20%20%20%20%20%20%20%20%20%20%20%20%20%20%20left%3A%200.0%25%3B%0A%20%20%20%20%20%20%20%20%20%20%20%20%20%20%20%20%20%20%20%20top%3A%200.0%25%3B%0A%20%20%20%20%20%20%20%20%20%20%20%20%20%20%20%20%7D%0A%20%20%20%20%20%20%20%20%20%20%20%20%3C/style%3E%0A%20%20%20%20%20%20%20%20%0A%3C/head%3E%0A%3Cbody%3E%20%20%20%20%0A%20%20%20%20%0A%20%20%20%20%20%20%20%20%20%20%20%20%3Cdiv%20class%3D%22folium-map%22%20id%3D%22map_01e1dd7202214f87ba636a4531e76bc0%22%20%3E%3C/div%3E%0A%20%20%20%20%20%20%20%20%0A%3C/body%3E%0A%3Cscript%3E%20%20%20%20%0A%20%20%20%20%0A%20%20%20%20%20%20%20%20%20%20%20%20var%20map_01e1dd7202214f87ba636a4531e76bc0%20%3D%20L.map%28%0A%20%20%20%20%20%20%20%20%20%20%20%20%20%20%20%20%22map_01e1dd7202214f87ba636a4531e76bc0%22%2C%0A%20%20%20%20%20%20%20%20%20%20%20%20%20%20%20%20%7B%0A%20%20%20%20%20%20%20%20%20%20%20%20%20%20%20%20%20%20%20%20center%3A%20%5B39.3398%2C%20-66.53905%5D%2C%0A%20%20%20%20%20%20%20%20%20%20%20%20%20%20%20%20%20%20%20%20crs%3A%20L.CRS.EPSG3857%2C%0A%20%20%20%20%20%20%20%20%20%20%20%20%20%20%20%20%20%20%20%20zoom%3A%201%2C%0A%20%20%20%20%20%20%20%20%20%20%20%20%20%20%20%20%20%20%20%20zoomControl%3A%20true%2C%0A%20%20%20%20%20%20%20%20%20%20%20%20%20%20%20%20%20%20%20%20preferCanvas%3A%20false%2C%0A%20%20%20%20%20%20%20%20%20%20%20%20%20%20%20%20%7D%0A%20%20%20%20%20%20%20%20%20%20%20%20%29%3B%0A%0A%20%20%20%20%20%20%20%20%20%20%20%20%0A%0A%20%20%20%20%20%20%20%20%0A%20%20%20%20%0A%20%20%20%20%20%20%20%20%20%20%20%20var%20tile_layer_ded63eb5a8dc477da1caf91c146caa9d%20%3D%20L.tileLayer%28%0A%20%20%20%20%20%20%20%20%20%20%20%20%20%20%20%20%22https%3A//%7Bs%7D.tile.openstreetmap.org/%7Bz%7D/%7Bx%7D/%7By%7D.png%22%2C%0A%20%20%20%20%20%20%20%20%20%20%20%20%20%20%20%20%7B%22attribution%22%3A%20%22Data%20by%20%5Cu0026copy%3B%20%5Cu003ca%20href%3D%5C%22http%3A//openstreetmap.org%5C%22%5Cu003eOpenStreetMap%5Cu003c/a%5Cu003e%2C%20under%20%5Cu003ca%20href%3D%5C%22http%3A//www.openstreetmap.org/copyright%5C%22%5Cu003eODbL%5Cu003c/a%5Cu003e.%22%2C%20%22detectRetina%22%3A%20false%2C%20%22maxNativeZoom%22%3A%2018%2C%20%22maxZoom%22%3A%2018%2C%20%22minZoom%22%3A%200%2C%20%22noWrap%22%3A%20false%2C%20%22opacity%22%3A%201%2C%20%22subdomains%22%3A%20%22abc%22%2C%20%22tms%22%3A%20false%7D%0A%20%20%20%20%20%20%20%20%20%20%20%20%29.addTo%28map_01e1dd7202214f87ba636a4531e76bc0%29%3B%0A%20%20%20%20%20%20%20%20%0A%20%20%20%20%0A%20%20%20%20%20%20%20%20%20%20%20%20var%20marker_cc57833a24a44950bf3724ec73f7f733%20%3D%20L.marker%28%0A%20%20%20%20%20%20%20%20%20%20%20%20%20%20%20%20%5B39.9653%2C%20-83.0235%5D%2C%0A%20%20%20%20%20%20%20%20%20%20%20%20%20%20%20%20%7B%7D%0A%20%20%20%20%20%20%20%20%20%20%20%20%29.addTo%28map_01e1dd7202214f87ba636a4531e76bc0%29%3B%0A%20%20%20%20%20%20%20%20%0A%20%20%20%20%0A%20%20%20%20%20%20%20%20%20%20%20%20var%20icon_1a9472ca55124047a962e640fc106dee%20%3D%20L.AwesomeMarkers.icon%28%0A%20%20%20%20%20%20%20%20%20%20%20%20%20%20%20%20%7B%22extraClasses%22%3A%20%22fa-rotate-0%22%2C%20%22icon%22%3A%20%22info-sign%22%2C%20%22iconColor%22%3A%20%22white%22%2C%20%22markerColor%22%3A%20%22green%22%2C%20%22prefix%22%3A%20%22glyphicon%22%7D%0A%20%20%20%20%20%20%20%20%20%20%20%20%29%3B%0A%20%20%20%20%20%20%20%20%20%20%20%20marker_cc57833a24a44950bf3724ec73f7f733.setIcon%28icon_1a9472ca55124047a962e640fc106dee%29%3B%0A%20%20%20%20%20%20%20%20%0A%20%20%20%20%0A%20%20%20%20%20%20%20%20var%20popup_f7ef9b58b14e498d8568af30bbeed6db%20%3D%20L.popup%28%7B%22maxWidth%22%3A%20%22100%25%22%7D%29%3B%0A%0A%20%20%20%20%20%20%20%20%0A%20%20%20%20%20%20%20%20%20%20%20%20var%20html_41905fdca4864f3f9306c17508521a33%20%3D%20%24%28%60%3Cdiv%20id%3D%22html_41905fdca4864f3f9306c17508521a33%22%20style%3D%22width%3A%20100.0%25%3B%20height%3A%20100.0%25%3B%22%3ECountryCode%3DUS%2C%20CountryName%3DUnited%20States%2C%20State%3DOhio%2C%20City%3DColumbus%2C%20Longitude%3D-83.0235%2C%20Latitude%3D39.9653%2C%20Type%3Dgeolocation%3Cbr%3EIP%3A%2013.58.165.222%3C/div%3E%60%29%5B0%5D%3B%0A%20%20%20%20%20%20%20%20%20%20%20%20popup_f7ef9b58b14e498d8568af30bbeed6db.setContent%28html_41905fdca4864f3f9306c17508521a33%29%3B%0A%20%20%20%20%20%20%20%20%0A%0A%20%20%20%20%20%20%20%20marker_cc57833a24a44950bf3724ec73f7f733.bindPopup%28popup_f7ef9b58b14e498d8568af30bbeed6db%29%0A%20%20%20%20%20%20%20%20%3B%0A%0A%20%20%20%20%20%20%20%20%0A%20%20%20%20%0A%20%20%20%20%0A%20%20%20%20%20%20%20%20%20%20%20%20marker_cc57833a24a44950bf3724ec73f7f733.bindTooltip%28%0A%20%20%20%20%20%20%20%20%20%20%20%20%20%20%20%20%60%3Cdiv%3E%0A%20%20%20%20%20%20%20%20%20%20%20%20%20%20%20%20%20%20%20%20%20Columbus%2C%20United%20States%0A%20%20%20%20%20%20%20%20%20%20%20%20%20%20%20%20%20%3C/div%3E%60%2C%0A%20%20%20%20%20%20%20%20%20%20%20%20%20%20%20%20%7B%22sticky%22%3A%20true%7D%0A%20%20%20%20%20%20%20%20%20%20%20%20%29%3B%0A%20%20%20%20%20%20%20%20%0A%20%20%20%20%0A%20%20%20%20%20%20%20%20%20%20%20%20var%20marker_2a227389ebc34f4091b21a2e1ac3c72d%20%3D%20L.marker%28%0A%20%20%20%20%20%20%20%20%20%20%20%20%20%20%20%20%5B37.751%2C%20-97.822%5D%2C%0A%20%20%20%20%20%20%20%20%20%20%20%20%20%20%20%20%7B%7D%0A%20%20%20%20%20%20%20%20%20%20%20%20%29.addTo%28map_01e1dd7202214f87ba636a4531e76bc0%29%3B%0A%20%20%20%20%20%20%20%20%0A%20%20%20%20%0A%20%20%20%20%20%20%20%20%20%20%20%20var%20icon_c9c01f161bf444e68ffadb20e575e00c%20%3D%20L.AwesomeMarkers.icon%28%0A%20%20%20%20%20%20%20%20%20%20%20%20%20%20%20%20%7B%22extraClasses%22%3A%20%22fa-rotate-0%22%2C%20%22icon%22%3A%20%22info-sign%22%2C%20%22iconColor%22%3A%20%22white%22%2C%20%22markerColor%22%3A%20%22green%22%2C%20%22prefix%22%3A%20%22glyphicon%22%7D%0A%20%20%20%20%20%20%20%20%20%20%20%20%29%3B%0A%20%20%20%20%20%20%20%20%20%20%20%20marker_2a227389ebc34f4091b21a2e1ac3c72d.setIcon%28icon_c9c01f161bf444e68ffadb20e575e00c%29%3B%0A%20%20%20%20%20%20%20%20%0A%20%20%20%20%0A%20%20%20%20%20%20%20%20var%20popup_d19cb14db07d412bbe643eb6b594de5e%20%3D%20L.popup%28%7B%22maxWidth%22%3A%20%22100%25%22%7D%29%3B%0A%0A%20%20%20%20%20%20%20%20%0A%20%20%20%20%20%20%20%20%20%20%20%20var%20html_559790a3beda4103a6813af9e3dc4ab7%20%3D%20%24%28%60%3Cdiv%20id%3D%22html_559790a3beda4103a6813af9e3dc4ab7%22%20style%3D%22width%3A%20100.0%25%3B%20height%3A%20100.0%25%3B%22%3ECountryCode%3DUS%2C%20CountryName%3DUnited%20States%2C%20Longitude%3D-97.822%2C%20Latitude%3D37.751%2C%20Type%3Dgeolocation%3Cbr%3EIP%3A%2045.60.241.240%3C/div%3E%60%29%5B0%5D%3B%0A%20%20%20%20%20%20%20%20%20%20%20%20popup_d19cb14db07d412bbe643eb6b594de5e.setContent%28html_559790a3beda4103a6813af9e3dc4ab7%29%3B%0A%20%20%20%20%20%20%20%20%0A%0A%20%20%20%20%20%20%20%20marker_2a227389ebc34f4091b21a2e1ac3c72d.bindPopup%28popup_d19cb14db07d412bbe643eb6b594de5e%29%0A%20%20%20%20%20%20%20%20%3B%0A%0A%20%20%20%20%20%20%20%20%0A%20%20%20%20%0A%20%20%20%20%0A%20%20%20%20%20%20%20%20%20%20%20%20marker_2a227389ebc34f4091b21a2e1ac3c72d.bindTooltip%28%0A%20%20%20%20%20%20%20%20%20%20%20%20%20%20%20%20%60%3Cdiv%3E%0A%20%20%20%20%20%20%20%20%20%20%20%20%20%20%20%20%20%20%20%20%20None%2C%20United%20States%0A%20%20%20%20%20%20%20%20%20%20%20%20%20%20%20%20%20%3C/div%3E%60%2C%0A%20%20%20%20%20%20%20%20%20%20%20%20%20%20%20%20%7B%22sticky%22%3A%20true%7D%0A%20%20%20%20%20%20%20%20%20%20%20%20%29%3B%0A%20%20%20%20%20%20%20%20%0A%20%20%20%20%0A%20%20%20%20%20%20%20%20%20%20%20%20var%20marker_9b8044c22dd4476bacbe1416a6450f68%20%3D%20L.marker%28%0A%20%20%20%20%20%20%20%20%20%20%20%20%20%20%20%20%5B37.751%2C%20-97.822%5D%2C%0A%20%20%20%20%20%20%20%20%20%20%20%20%20%20%20%20%7B%7D%0A%20%20%20%20%20%20%20%20%20%20%20%20%29.addTo%28map_01e1dd7202214f87ba636a4531e76bc0%29%3B%0A%20%20%20%20%20%20%20%20%0A%20%20%20%20%0A%20%20%20%20%20%20%20%20%20%20%20%20var%20icon_02fb323248164991b7cbe4ee80bb7b31%20%3D%20L.AwesomeMarkers.icon%28%0A%20%20%20%20%20%20%20%20%20%20%20%20%20%20%20%20%7B%22extraClasses%22%3A%20%22fa-rotate-0%22%2C%20%22icon%22%3A%20%22info-sign%22%2C%20%22iconColor%22%3A%20%22white%22%2C%20%22markerColor%22%3A%20%22green%22%2C%20%22prefix%22%3A%20%22glyphicon%22%7D%0A%20%20%20%20%20%20%20%20%20%20%20%20%29%3B%0A%20%20%20%20%20%20%20%20%20%20%20%20marker_9b8044c22dd4476bacbe1416a6450f68.setIcon%28icon_02fb323248164991b7cbe4ee80bb7b31%29%3B%0A%20%20%20%20%20%20%20%20%0A%20%20%20%20%0A%20%20%20%20%20%20%20%20var%20popup_90e76328a93e4072811643a0fde0e53f%20%3D%20L.popup%28%7B%22maxWidth%22%3A%20%22100%25%22%7D%29%3B%0A%0A%20%20%20%20%20%20%20%20%0A%20%20%20%20%20%20%20%20%20%20%20%20var%20html_bc7781470b59415ea09b2faabca9e818%20%3D%20%24%28%60%3Cdiv%20id%3D%22html_bc7781470b59415ea09b2faabca9e818%22%20style%3D%22width%3A%20100.0%25%3B%20height%3A%20100.0%25%3B%22%3ECountryCode%3DUS%2C%20CountryName%3DUnited%20States%2C%20Longitude%3D-97.822%2C%20Latitude%3D37.751%2C%20Type%3Dgeolocation%3Cbr%3EIP%3A%2045.60.251.240%3C/div%3E%60%29%5B0%5D%3B%0A%20%20%20%20%20%20%20%20%20%20%20%20popup_90e76328a93e4072811643a0fde0e53f.setContent%28html_bc7781470b59415ea09b2faabca9e818%29%3B%0A%20%20%20%20%20%20%20%20%0A%0A%20%20%20%20%20%20%20%20marker_9b8044c22dd4476bacbe1416a6450f68.bindPopup%28popup_90e76328a93e4072811643a0fde0e53f%29%0A%20%20%20%20%20%20%20%20%3B%0A%0A%20%20%20%20%20%20%20%20%0A%20%20%20%20%0A%20%20%20%20%0A%20%20%20%20%20%20%20%20%20%20%20%20marker_9b8044c22dd4476bacbe1416a6450f68.bindTooltip%28%0A%20%20%20%20%20%20%20%20%20%20%20%20%20%20%20%20%60%3Cdiv%3E%0A%20%20%20%20%20%20%20%20%20%20%20%20%20%20%20%20%20%20%20%20%20None%2C%20United%20States%0A%20%20%20%20%20%20%20%20%20%20%20%20%20%20%20%20%20%3C/div%3E%60%2C%0A%20%20%20%20%20%20%20%20%20%20%20%20%20%20%20%20%7B%22sticky%22%3A%20true%7D%0A%20%20%20%20%20%20%20%20%20%20%20%20%29%3B%0A%20%20%20%20%20%20%20%20%0A%20%20%20%20%0A%20%20%20%20%20%20%20%20%20%20%20%20var%20marker_3b1fda8f01f149d6a613edcf8947350a%20%3D%20L.marker%28%0A%20%20%20%20%20%20%20%20%20%20%20%20%20%20%20%20%5B41.8919%2C%2012.5113%5D%2C%0A%20%20%20%20%20%20%20%20%20%20%20%20%20%20%20%20%7B%7D%0A%20%20%20%20%20%20%20%20%20%20%20%20%29.addTo%28map_01e1dd7202214f87ba636a4531e76bc0%29%3B%0A%20%20%20%20%20%20%20%20%0A%20%20%20%20%0A%20%20%20%20%20%20%20%20%20%20%20%20var%20icon_b2336d768c4b43869fe6403471f541fe%20%3D%20L.AwesomeMarkers.icon%28%0A%20%20%20%20%20%20%20%20%20%20%20%20%20%20%20%20%7B%22extraClasses%22%3A%20%22fa-rotate-0%22%2C%20%22icon%22%3A%20%22info-sign%22%2C%20%22iconColor%22%3A%20%22white%22%2C%20%22markerColor%22%3A%20%22green%22%2C%20%22prefix%22%3A%20%22glyphicon%22%7D%0A%20%20%20%20%20%20%20%20%20%20%20%20%29%3B%0A%20%20%20%20%20%20%20%20%20%20%20%20marker_3b1fda8f01f149d6a613edcf8947350a.setIcon%28icon_b2336d768c4b43869fe6403471f541fe%29%3B%0A%20%20%20%20%20%20%20%20%0A%20%20%20%20%0A%20%20%20%20%20%20%20%20var%20popup_6750bbdc4b4f44f7b90003de4f668183%20%3D%20L.popup%28%7B%22maxWidth%22%3A%20%22100%25%22%7D%29%3B%0A%0A%20%20%20%20%20%20%20%20%0A%20%20%20%20%20%20%20%20%20%20%20%20var%20html_8d6529a7c61f4d34b779fb7c70cefb13%20%3D%20%24%28%60%3Cdiv%20id%3D%22html_8d6529a7c61f4d34b779fb7c70cefb13%22%20style%3D%22width%3A%20100.0%25%3B%20height%3A%20100.0%25%3B%22%3ECountryCode%3DIT%2C%20CountryName%3DItaly%2C%20State%3DLatium%2C%20City%3DRome%2C%20Longitude%3D12.5113%2C%20Latitude%3D41.8919%2C%20Type%3Dgeolocation%3Cbr%3EIP%3A%20185.81.4.152%3C/div%3E%60%29%5B0%5D%3B%0A%20%20%20%20%20%20%20%20%20%20%20%20popup_6750bbdc4b4f44f7b90003de4f668183.setContent%28html_8d6529a7c61f4d34b779fb7c70cefb13%29%3B%0A%20%20%20%20%20%20%20%20%0A%0A%20%20%20%20%20%20%20%20marker_3b1fda8f01f149d6a613edcf8947350a.bindPopup%28popup_6750bbdc4b4f44f7b90003de4f668183%29%0A%20%20%20%20%20%20%20%20%3B%0A%0A%20%20%20%20%20%20%20%20%0A%20%20%20%20%0A%20%20%20%20%0A%20%20%20%20%20%20%20%20%20%20%20%20marker_3b1fda8f01f149d6a613edcf8947350a.bindTooltip%28%0A%20%20%20%20%20%20%20%20%20%20%20%20%20%20%20%20%60%3Cdiv%3E%0A%20%20%20%20%20%20%20%20%20%20%20%20%20%20%20%20%20%20%20%20%20Rome%2C%20Italy%0A%20%20%20%20%20%20%20%20%20%20%20%20%20%20%20%20%20%3C/div%3E%60%2C%0A%20%20%20%20%20%20%20%20%20%20%20%20%20%20%20%20%7B%22sticky%22%3A%20true%7D%0A%20%20%20%20%20%20%20%20%20%20%20%20%29%3B%0A%20%20%20%20%20%20%20%20%0A%3C/script%3E onload=\"this.contentDocument.open();this.contentDocument.write(    decodeURIComponent(this.getAttribute('data-html')));this.contentDocument.close();\" allowfullscreen webkitallowfullscreen mozallowfullscreen></iframe></div></div>"
      ],
      "text/plain": [
       "<msticpy.nbtools.foliummap.FoliumMap at 0x27ce8a91430>"
      ]
     },
     "metadata": {},
     "output_type": "display_data"
    }
   ],
   "source": [
    "folium_map = FoliumMap(location=[vt_res.Latitude.mean(), vt_res.Longitude.mean()], zoom_start=1)\n",
    "# Set Icon properties to display\n",
    "icon_props = {\"color\": \"green\"}\n",
    "\n",
    "def create_ip_entity(row):\n",
    "    ip_ent = IpAddress(Address=row[\"Observable\"])\n",
    "    geo_loc = create_geo_entity(row)\n",
    "    ip_ent.Location = geo_loc\n",
    "    return ip_ent\n",
    "\n",
    "def create_geo_entity(row):\n",
    "    # get subset of fields for GeoLocation\n",
    "    loc_props = row[[\"CountryCode\", \"CountryName\",\"State\", \"City\", \"Longitude\", \"Latitude\"]]\n",
    "    geo_loc = GeoLocation(**loc_props.to_dict())\n",
    "    return geo_loc\n",
    "\n",
    "# Set additional properties to display in tooltips\n",
    "# in AdditionalData property of IpAddress entities\n",
    "geo_locs = list(vt_res.apply(create_geo_entity, axis=1).values)\n",
    "ip_ents = list(vt_res.apply(create_ip_entity, axis=1).values)\n",
    "folium_map.add_ip_cluster(ip_entities=ip_ents, **icon_props)\n",
    "\n",
    "# display the map (or just have folium_map as the last statement\n",
    "# of the cell - Jupyter will use display() automatically)\n",
    "display(folium_map)\n",
    "#folium_map.save('result.html')\n",
    "#os.system('explorer.exe result.html')"
   ]
  }
 ],
 "metadata": {
  "celltoolbar": "Tags",
  "hide_input": false,
  "kernelspec": {
   "display_name": "Python 3.8.8 ('base')",
   "language": "python",
   "name": "python3"
  },
  "language_info": {
   "codemirror_mode": {
    "name": "ipython",
    "version": 3
   },
   "file_extension": ".py",
   "mimetype": "text/x-python",
   "name": "python",
   "nbconvert_exporter": "python",
   "pygments_lexer": "ipython3",
   "version": "3.8.8"
  },
  "toc": {
   "base_numbering": 1,
   "nav_menu": {
    "height": "318.996px",
    "width": "320.994px"
   },
   "number_sections": false,
   "sideBar": true,
   "skip_h1_title": false,
   "title_cell": "Table of Contents",
   "title_sidebar": "Contents",
   "toc_cell": false,
   "toc_position": {
    "height": "calc(100% - 180px)",
    "left": "10px",
    "top": "150px",
    "width": "165px"
   },
   "toc_section_display": true,
   "toc_window_display": true
  },
  "varInspector": {
   "cols": {
    "lenName": 16,
    "lenType": 16,
    "lenVar": 40
   },
   "kernels_config": {
    "python": {
     "delete_cmd_postfix": "",
     "delete_cmd_prefix": "del ",
     "library": "var_list.py",
     "varRefreshCmd": "print(var_dic_list())"
    },
    "r": {
     "delete_cmd_postfix": ") ",
     "delete_cmd_prefix": "rm(",
     "library": "var_list.r",
     "varRefreshCmd": "cat(var_dic_list()) "
    }
   },
   "position": {
    "height": "406.193px",
    "left": "1468.4px",
    "right": "20px",
    "top": "120px",
    "width": "456.572px"
   },
   "types_to_exclude": [
    "module",
    "function",
    "builtin_function_or_method",
    "instance",
    "_Feature"
   ],
   "window_display": false
  },
  "vscode": {
   "interpreter": {
    "hash": "7307bd6c5b0f4221b86148b5c729dd4788a5dc4445738a3debd1c90d91837807"
   }
  },
  "widgets": {
   "application/vnd.jupyter.widget-state+json": {
    "state": {},
    "version_major": 2,
    "version_minor": 0
   }
  }
 },
 "nbformat": 4,
 "nbformat_minor": 4
}
