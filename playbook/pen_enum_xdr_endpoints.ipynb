{
 "cells": [
  {
   "cell_type": "code",
   "execution_count": null,
   "id": "1f3878ae",
   "metadata": {},
   "outputs": [],
   "source": [
    "# INITIALIZATION\n",
    "# INIT : IMPORTS\n",
    "MIN_REQ_PYTHON = (3,6)\n",
    "if sys.version_info < MIN_REQ_PYTHON:\n",
    "    print('Check the Kernel->Change Kernel menu and ensure that Python 3.6')\n",
    "    print('or later is selected as the active kernel.')\n",
    "    sys.exit(\"Python %s.%s or later is required.\\n\" % MIN_REQ_PYTHON)\n",
    "import math\n",
    "import requests\n",
    "import json\n",
    "import numpy as np\n",
    "import pandas as pd\n",
    "from pandas.io.json import json_normalize\n",
    "from pandasgui import show\n",
    "import ipywidgets as widgets\n",
    "from IPython.display import display\n",
    "import string\n",
    "import datetime"
   ]
  },
  {
   "cell_type": "code",
   "execution_count": null,
   "id": "3d380278",
   "metadata": {},
   "outputs": [],
   "source": [
    "# INPUT API ID + TOKEN \n",
    "xdrauthid = input()\n",
    "token = input()\n",
    "myurl = input()"
   ]
  },
  {
   "cell_type": "code",
   "execution_count": null,
   "id": "7e4d187c",
   "metadata": {},
   "outputs": [],
   "source": [
    "# INIT : API 1/2\n",
    "headers = {\n",
    "  'Content-Type': 'application/json',\n",
    "  'x-xdr-auth-id': xdrauthid,\n",
    "  'Authorization': token\n",
    "}\n",
    "\n",
    "# DEBUG \n",
    "# print(headers)"
   ]
  },
  {
   "cell_type": "code",
   "execution_count": null,
   "id": "0fde57f9",
   "metadata": {},
   "outputs": [],
   "source": [
    "# INIT : API 2/2\n",
    "parameters = {}\n",
    "\n",
    "resp1 = requests.post(url=myurl,\n",
    "            headers=headers,\n",
    "            json=parameters)\n",
    "\n",
    "# Testing that the API key is valid\n",
    "if resp1.status_code == 200:\n",
    "    print(\"ACCES API XDR OK. RETURN CODE: \" + str(resp1.status_code))\n",
    "else:\n",
    "    print(\"ACCES API XDR KO. RETURN CODE: \" + str(resp1.status_code))"
   ]
  },
  {
   "cell_type": "code",
   "execution_count": null,
   "id": "05047907",
   "metadata": {},
   "outputs": [],
   "source": [
    "# INPUT CSV FILE\n",
    "# warning : expect the header 'endpoint_name' when no FQDN, no header otherwise\n",
    "from tkinter import Tk\n",
    "from tkinter.filedialog import askopenfilename\n",
    "\n",
    "Tk().withdraw() # we don't want a full GUI, so keep the root window from appearing\n",
    "filename = askopenfilename() # show an \"Open\" dialog box and return the path to the selected file\n",
    "print(filename)\n",
    "\n",
    "df1 = pd.read_csv(filename,names=['endpoint_name'])"
   ]
  },
  {
   "cell_type": "code",
   "execution_count": null,
   "id": "e2181256",
   "metadata": {},
   "outputs": [],
   "source": [
    "# OPTIONAL : removing the FQDN\n",
    "df1[['endpoint_name', 'domain']] = df1['endpoint_name'].str.split('.', 1, expand=True)\n",
    "print(df1)"
   ]
  },
  {
   "cell_type": "code",
   "execution_count": null,
   "id": "51c6593b",
   "metadata": {},
   "outputs": [],
   "source": [
    "# FAST | GET ENDPOINTS INFO OVER A LIST < 100\n",
    "url = myurl + \"public_api/v1/endpoints/get_endpoint/\"\n",
    "\n",
    "payload = json.dumps({\n",
    "   \"request_data\":{\n",
    "      \"sort\":{\n",
    "         \"field\":\"endpoint_id\",\n",
    "         \"keyword\":\"ASC\"\n",
    "      },\n",
    "      \"filters\":[\n",
    "         {\n",
    "            \"field\":\"hostname\",\n",
    "            \"operator\":\"in\",\n",
    "            \"value\":[\"\"]\n",
    "         },\n",
    "         #{\n",
    "         #   \"field\":\"endpoint_status\",\n",
    "         #   \"operator\":\"in\",\n",
    "         #   \"value\":[\n",
    "         #       \"connected\"\n",
    "         #   ]\n",
    "         #},\n",
    "      ]\n",
    "   }\n",
    "})\n",
    "\n",
    "pp = json.loads(payload)\n",
    "pp['request_data']['filters'][0]['value'] = np.array(df1['endpoint_name'].values).tolist()\n",
    "pp = json.dumps(pp)\n",
    "resp2 = requests.request(\"POST\", url, headers=headers, data=pp)\n",
    "\n",
    "jsonResponse = resp2.json()\n",
    "\n",
    "# Convert epoch timestamps + Display Pandas GUI \n",
    "def milli_epoch_to_datetime(epoch):\n",
    "    s = epoch / 1000.0\n",
    "    return datetime.datetime.fromtimestamp(s).strftime('%Y-%m-%d %H:%M:%S.%f')\n",
    "\n",
    "i=0\n",
    "for ep in jsonResponse['reply']['endpoints']:\n",
    "    jsonResponse['reply']['endpoints'][i]['first_seen'] = milli_epoch_to_datetime(ep['first_seen'])\n",
    "    jsonResponse['reply']['endpoints'][i]['last_seen']  = milli_epoch_to_datetime(ep['last_seen'])\n",
    "    i=i+1\n",
    "\n",
    "df2 = pd.json_normalize(jsonResponse, record_path=['reply',['endpoints']])\n",
    "gui = show(df2)\n"
   ]
  },
  {
   "cell_type": "code",
   "execution_count": null,
   "id": "1f1cab50",
   "metadata": {
    "scrolled": true
   },
   "outputs": [],
   "source": [
    "# SLOW | GET ENDPOINTS INFO OVER A LIST > 100\n",
    "\n",
    "url = myurl + \"public_api/v1/endpoints/get_endpoint/\"\n",
    "\n",
    "# rlen MUST BE < 100, here it collects endpoints data by bunch of 80\n",
    "rlen = 80\n",
    "xround = math.ceil(len(df1)/rlen)\n",
    "r=0; rl1=0; rl2=rlen-1;\n",
    "df2 = [] \n",
    "jsonResponse = {}\n",
    "\n",
    "# Convert epoch timestamps + Display Pandas GUI \n",
    "def milli_epoch_to_datetime(epoch):\n",
    "    s = epoch / 1000.0\n",
    "    return datetime.datetime.fromtimestamp(s).strftime('%Y-%m-%d %H:%M:%S.%f')\n",
    "\n",
    "while r < xround: \n",
    "\n",
    "    print(\"Round \", r, \". Getting endpoints from \", rl1, \" to \",rl2,\".\")\n",
    "    payload = json.dumps({\n",
    "     \"request_data\":{\n",
    "     \"sort\":{\n",
    "        \"field\":\"endpoint_id\",\n",
    "        \"keyword\":\"ASC\"\n",
    "    },\n",
    "    \"filters\":[\n",
    "    {\n",
    "       \"field\":\"hostname\",\n",
    "       \"operator\":\"in\",\n",
    "       \"value\":[\"\"]\n",
    "    },\n",
    "          #{\n",
    "            #   \"field\":\"endpoint_status\",\n",
    "            #   \"operator\":\"in\",\n",
    "            #   \"value\":[\n",
    "            #       \"connected\"\n",
    "            #   ]\n",
    "            #},\n",
    "    ]\n",
    "    }\n",
    "    })\n",
    "      \n",
    "    pp = json.loads(payload)\n",
    "    dff1 = df1.loc[rl1:rl2]\n",
    "    pp['request_data']['filters'][0]['value'] = np.array(dff1['endpoint_name'].values).tolist()\n",
    "    pp = json.dumps(pp)\n",
    "    resp2 = requests.request(\"POST\", url, headers=headers, data=pp)\n",
    "    jsonResponse = resp2.json()\n",
    "\n",
    "    if r == 0:\n",
    "            df2 = pd.json_normalize(jsonResponse, record_path=['reply',['endpoints']])\n",
    "    else:\n",
    "            df2 = df2.append(pd.json_normalize(jsonResponse, record_path=['reply',['endpoints']]),ignore_index=True)\n",
    "    \n",
    "    r = r + 1\n",
    "    rl1 = rl2+1\n",
    "    rl2 = rl1+rlen-1\n",
    "\n",
    "\n",
    "gui = show(df2)"
   ]
  },
  {
   "cell_type": "code",
   "execution_count": null,
   "id": "2e123440",
   "metadata": {},
   "outputs": [],
   "source": [
    "# DEBUG \n",
    "# print(pp)\n",
    "# print(jsonResponse)"
   ]
  },
  {
   "cell_type": "code",
   "execution_count": null,
   "id": "5fe248d0",
   "metadata": {},
   "outputs": [],
   "source": [
    "# DISPLAY HOSTS WITH XDR\n",
    "# i=0\n",
    "#for ep in df2.iterrows:\n",
    "#   df2['first_seen'] = milli_epoch_to_datetime(ep['first_seen'])\n",
    "#   df2['last_seen']  = milli_epoch_to_datetime(ep['last_seen'])\n",
    "#   i=i+1\n",
    "\n",
    "gui = show(df2)"
   ]
  },
  {
   "cell_type": "code",
   "execution_count": null,
   "id": "d1fa0f70",
   "metadata": {},
   "outputs": [],
   "source": [
    "# DISPLAY HOSTS WITHOUT XDR\n",
    "df3 = pd.concat([df1['endpoint_name'],df2['endpoint_name']]).drop_duplicates(keep=False)\n",
    "gui = show(df3)"
   ]
  }
 ],
 "metadata": {
  "kernelspec": {
   "display_name": "Python 3.8.8 ('base')",
   "language": "python",
   "name": "python3"
  },
  "language_info": {
   "codemirror_mode": {
    "name": "ipython",
    "version": 3
   },
   "file_extension": ".py",
   "mimetype": "text/x-python",
   "name": "python",
   "nbconvert_exporter": "python",
   "pygments_lexer": "ipython3",
   "version": "3.8.8"
  },
  "vscode": {
   "interpreter": {
    "hash": "7307bd6c5b0f4221b86148b5c729dd4788a5dc4445738a3debd1c90d91837807"
   }
  }
 },
 "nbformat": 4,
 "nbformat_minor": 5
}
