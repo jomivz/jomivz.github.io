{
 "cells": [
  {
   "cell_type": "code",
   "execution_count": null,
   "id": "db7e1098",
   "metadata": {
    "scrolled": true
   },
   "outputs": [],
   "source": [
    "# Imports\n",
    "import sys\n",
    "MIN_REQ_PYTHON = (3,6)\n",
    "if sys.version_info < MIN_REQ_PYTHON:\n",
    "    sys.exit(\"Python %s.%s or later is required.\\n\" % MIN_REQ_PYTHON)\n",
    "import math\n",
    "import requests\n",
    "import json\n",
    "import numpy as np\n",
    "import pandas as pd\n",
    "from pandas.io.json import json_normalize\n",
    "from pandasgui import show\n",
    "import ipywidgets as widgets\n",
    "from IPython.display import display\n",
    "import ipaddress\n",
    "import string"
   ]
  },
  {
   "cell_type": "code",
   "execution_count": null,
   "id": "749dea93",
   "metadata": {},
   "outputs": [],
   "source": [
    "cve \t\t\t= input()\n",
    "personalApiKey \t= input()\n",
    "userid\t\t\t= input()\n",
    "\n",
    "# Set HTTP Header\n",
    "userAgent = 'VulDB API Advanced Python Demo Agent'\n",
    "headers   = {'User-Agent': userAgent, 'X-VulDB-ApiKey': personalApiKey}\n",
    "postData  = json.loads(\"{\\\"id\\\": \\\"\\\"}\")\n",
    "postData['id']=cve\n",
    "#\tpostData = {'recent': int(args.recent)}\n",
    "#elif args.id is not None:\n",
    "#\tpostData = {'id': int(args.id)}\n",
    "#else:\n",
    "#postData = {'recent': 5}\n",
    "postData['details'] = 1\n",
    "\n",
    "print(json.dumps(postData,indent=4,sort_keys=True))\n",
    "\n",
    "# URL VulDB endpoint\n",
    "url = 'https://vuldb.com/?api'\n",
    "\n",
    "# Get API response\n",
    "response = requests.post(url,headers=headers,data=postData)\n",
    "\n",
    "print(response)\n",
    "print(response.text)\n",
    "print(response.status_code)\n",
    "\n",
    "# Display result if evertything went OK\n",
    "if response.status_code == 200:\n",
    "\n",
    "\t# Parse HTTP body as JSON\n",
    "\tresponseJson = json.loads(response.content)\n",
    "\t\n",
    "\t# Output\n",
    "\tfor i in responseJson['result']:\t\t\n",
    "\t\tprint(i['entry'])\n",
    "\t\t#print(i[\"entry\"][\"id\"])\n",
    "\t\t#print(i[\"entry\"][\"title\"])"
   ]
  }
 ],
 "metadata": {
  "kernelspec": {
   "display_name": "Python 3.8.8 ('base')",
   "language": "python",
   "name": "python3"
  },
  "language_info": {
   "codemirror_mode": {
    "name": "ipython",
    "version": 3
   },
   "file_extension": ".py",
   "mimetype": "text/x-python",
   "name": "python",
   "nbconvert_exporter": "python",
   "pygments_lexer": "ipython3",
   "version": "3.8.8"
  },
  "vscode": {
   "interpreter": {
    "hash": "7307bd6c5b0f4221b86148b5c729dd4788a5dc4445738a3debd1c90d91837807"
   }
  }
 },
 "nbformat": 4,
 "nbformat_minor": 5
}
