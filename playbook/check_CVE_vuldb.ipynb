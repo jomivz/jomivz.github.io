{
 "cells": [
  {
   "cell_type": "code",
   "execution_count": 1,
   "id": "db7e1098",
   "metadata": {
    "scrolled": true
   },
   "outputs": [],
   "source": [
    "# Imports\n",
    "import sys\n",
    "MIN_REQ_PYTHON = (3,6)\n",
    "if sys.version_info < MIN_REQ_PYTHON:\n",
    "    print('Check the Kernel->Change Kernel menu and ensure that Python 3.6')\n",
    "    print('or later is selected as the active kernel.')\n",
    "    sys.exit(\"Python %s.%s or later is required.\\n\" % MIN_REQ_PYTHON)\n",
    "import math\n",
    "import shodan\n",
    "import requests\n",
    "import json\n",
    "import numpy as np\n",
    "import pandas as pd\n",
    "from pandas.io.json import json_normalize\n",
    "from pandasgui import show\n",
    "import ipywidgets as widgets\n",
    "from IPython.display import display\n",
    "import ipaddress\n",
    "import string"
   ]
  },
  {
   "cell_type": "code",
   "execution_count": 2,
   "id": "749dea93",
   "metadata": {},
   "outputs": [
    {
     "name": "stdout",
     "output_type": "stream",
     "text": [
      "{\n",
      "    \"id\": \"\"\n",
      "}\n",
      "<Response [200]>\n",
      "{\n",
      "    \"response\": {\n",
      "        \"version\": \"3.46\",\n",
      "        \"format\": \"json\",\n",
      "        \"status\": \"405\",\n",
      "        \"lang\": \"en\",\n",
      "        \"error\": \"Unknown request\",\n",
      "        \"consumption\": 1,\n",
      "        \"remaining\": 4,\n",
      "        \"querylimitmax\": 5,\n",
      "        \"timestamp\": \"1663334414\",\n",
      "        \"rtt\": 1,\n",
      "        \"etag\": \"89beca55d632b1ad-cbcc3ca58d7fbbf6-dcca48101505dd86\"\n",
      "    },\n",
      "    \"request\": {\n",
      "        \"timestamp\": \"1663334413\",\n",
      "        \"apikey\": \"valid\",\n",
      "        \"userid\": \"20230\",\n",
      "        \"details\": 0,\n",
      "        \"sort\": \"entry_timestamp_create\",\n",
      "        \"cti\": 0\n",
      "    }\n",
      "}\n",
      "200\n"
     ]
    },
    {
     "ename": "KeyError",
     "evalue": "'result'",
     "output_type": "error",
     "traceback": [
      "\u001b[1;31m---------------------------------------------------------------------------\u001b[0m",
      "\u001b[1;31mKeyError\u001b[0m                                  Traceback (most recent call last)",
      "\u001b[1;32m<ipython-input-2-e85607161610>\u001b[0m in \u001b[0;36m<module>\u001b[1;34m\u001b[0m\n\u001b[0;32m     31\u001b[0m \u001b[1;33m\u001b[0m\u001b[0m\n\u001b[0;32m     32\u001b[0m         \u001b[1;31m# Output\u001b[0m\u001b[1;33m\u001b[0m\u001b[1;33m\u001b[0m\u001b[1;33m\u001b[0m\u001b[0m\n\u001b[1;32m---> 33\u001b[1;33m         \u001b[1;32mfor\u001b[0m \u001b[0mi\u001b[0m \u001b[1;32min\u001b[0m \u001b[0mresponseJson\u001b[0m\u001b[1;33m[\u001b[0m\u001b[1;34m'result'\u001b[0m\u001b[1;33m]\u001b[0m\u001b[1;33m:\u001b[0m\u001b[1;33m\u001b[0m\u001b[1;33m\u001b[0m\u001b[0m\n\u001b[0m\u001b[0;32m     34\u001b[0m                 \u001b[0mprint\u001b[0m\u001b[1;33m(\u001b[0m\u001b[0mi\u001b[0m\u001b[1;33m[\u001b[0m\u001b[1;34m'entry'\u001b[0m\u001b[1;33m]\u001b[0m\u001b[1;33m)\u001b[0m\u001b[1;33m\u001b[0m\u001b[1;33m\u001b[0m\u001b[0m\n\u001b[0;32m     35\u001b[0m                 \u001b[1;31m#print(i[\"entry\"][\"id\"])\u001b[0m\u001b[1;33m\u001b[0m\u001b[1;33m\u001b[0m\u001b[1;33m\u001b[0m\u001b[0m\n",
      "\u001b[1;31mKeyError\u001b[0m: 'result'"
     ]
    }
   ],
   "source": [
    "#VULDB_API_KEY = 261f985158b68fe530cb39c69c099c0d\n",
    "\n",
    "cve = input()\n",
    "\n",
    "# Add your personal API key here\n",
    "personalApiKey = '261f985158b68fe530cb39c69c099c0d'\n",
    "\n",
    "# Set HTTP Header\n",
    "userAgent = 'VulDB API Advanced Python Demo Agent'\n",
    "headers = {'User-Agent': userAgent, 'X-VulDB-ApiKey': personalApiKey}\n",
    "postData = json.loads(\"{\\\"id\\\": \\\"\\\"}\")\n",
    "postData['id']=cve\n",
    "\n",
    "print(json.dumps(postData,indent=4,sort_keys=True))\n",
    "\n",
    "# URL VulDB endpoint\n",
    "url = 'https://vuldb.com/?api'\n",
    "\n",
    "# Get API response\n",
    "response = requests.post(url,headers=headers,data=postData)\n",
    "\n",
    "print(response)\n",
    "print(response.text)\n",
    "print(response.status_code)\n",
    "\n",
    "# Display result if evertything went OK\n",
    "if response.status_code == 200:\n",
    "\n",
    "\t# Parse HTTP body as JSON\n",
    "\tresponseJson = json.loads(response.content)\n",
    "\t\n",
    "\t# Output\n",
    "\tfor i in responseJson['result']:\t\t\n",
    "\t\tprint(i['entry'])\n",
    "\t\t#print(i[\"entry\"][\"id\"])\n",
    "\t\t#print(i[\"entry\"][\"title\"])"
   ]
  }
 ],
 "metadata": {
  "kernelspec": {
   "display_name": "Python 3.8.8 ('base')",
   "language": "python",
   "name": "python3"
  },
  "language_info": {
   "codemirror_mode": {
    "name": "ipython",
    "version": 3
   },
   "file_extension": ".py",
   "mimetype": "text/x-python",
   "name": "python",
   "nbconvert_exporter": "python",
   "pygments_lexer": "ipython3",
   "version": "3.8.8"
  },
  "vscode": {
   "interpreter": {
    "hash": "7307bd6c5b0f4221b86148b5c729dd4788a5dc4445738a3debd1c90d91837807"
   }
  }
 },
 "nbformat": 4,
 "nbformat_minor": 5
}
