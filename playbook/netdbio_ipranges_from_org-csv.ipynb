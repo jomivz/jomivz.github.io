{
 "cells": [
  {
   "cell_type": "code",
   "execution_count": null,
   "metadata": {},
   "outputs": [],
   "source": [
    "import csv\n",
    "from networksdb import NetworksDB\n",
    "import pandas as pd\n",
    "import datetime"
   ]
  },
  {
   "cell_type": "code",
   "execution_count": null,
   "metadata": {},
   "outputs": [],
   "source": [
    "# OPTION 1 : import the key api named 'networksdb' from the keyring manager\n",
    "# below the python cli (to execute once) create the api key : \n",
    "# >>> import keyring\n",
    "# >>> import readline\n",
    "# >>> keyring.set_password(service_name=\"networksdb\",username=\"None\",password=\"xxx\")\n",
    "# >>> readline.clear_history()\n",
    "import keyring\n",
    "keyring.get_keyring()\n",
    "netdbio_apikey = keyring.get_credential(\"networksdb\", \"None\")\n",
    "netdbio_api = NetworksDB(netdbio_apikey.password)"
   ]
  },
  {
   "cell_type": "code",
   "execution_count": null,
   "metadata": {},
   "outputs": [],
   "source": [
    "# OPTION 2 : import the key api named from the environment variable \n",
    "import os\n",
    "netdbio_apikey = os.environ['NETDBIO_API_KEY']\n",
    "netdbio_api = NetworksDB(netdbio_apikey)"
   ]
  },
  {
   "cell_type": "code",
   "execution_count": null,
   "metadata": {},
   "outputs": [],
   "source": [
    "from tkinter import Tk\n",
    "from tkinter.filedialog import askopenfilename\n",
    "\n",
    "Tk().withdraw() # we don't want a full GUI, so keep the root window from appearing\n",
    "filename = askopenfilename() # show an \"Open\" dialog box and return the path to the selected file\n",
    "print(filename)\n",
    "\n",
    "org_list = pd.read_csv(filename)\n",
    "print(org_list)"
   ]
  },
  {
   "cell_type": "code",
   "execution_count": null,
   "metadata": {},
   "outputs": [],
   "source": [
    "def save_ipranges_to_csv(org_name):\n",
    "    \n",
    "    org_data = netdbio_api.org_search(org_name)\n",
    "    org_net_list = []\n",
    "    \n",
    "    for i in range(0,len(org_data.results)-1) :\n",
    "\n",
    "        net_id = org_data.results[i].id\n",
    "        ipranges = netdbio_api.org_networks(net_id)\n",
    "\n",
    "        for ipr in ipranges.results:\n",
    "\n",
    "            if ipr.cidr != \"N/A\":            \n",
    "                ipr_sum = [ipr.netname, ipr.description, ipr.cidr]\n",
    "                org_net_list.append(ipr_sum)\n",
    "\n",
    "    pd.set_option('display.max_colwidth', None)            \n",
    "    df = pd.DataFrame(org_net_list, columns=['net_name', 'desc', 'IP'])\n",
    "    df.set_index('net_name', inplace=True)\n",
    "    current_date = datetime.datetime.now()\n",
    "    cdate = str(current_date.year) + f'{current_date.month:02d}' + f'{current_date.day:02d}'\n",
    "    input_file = \"NetDBio_IPranges_\" + org_name + \"_\" + cdate\n",
    "    df.to_csv(str(input_file + '.csv'))"
   ]
  },
  {
   "cell_type": "code",
   "execution_count": null,
   "metadata": {},
   "outputs": [],
   "source": [
    "for index, org in org_list.iteritems():\n",
    "    print(org)\n",
    "    save_ipranges_to_csv(org)"
   ]
  }
 ],
 "metadata": {
  "interpreter": {
   "hash": "97cc609b13305c559618ec78a438abc56230b9381f827f22d070313b9a1f3777"
  },
  "kernelspec": {
   "display_name": "Python 3.10.1 64-bit",
   "language": "python",
   "name": "python3"
  },
  "language_info": {
   "codemirror_mode": {
    "name": "ipython",
    "version": 3
   },
   "file_extension": ".py",
   "mimetype": "text/x-python",
   "name": "python",
   "nbconvert_exporter": "python",
   "pygments_lexer": "ipython3",
   "version": "3.9.10"
  },
  "orig_nbformat": 4
 },
 "nbformat": 4,
 "nbformat_minor": 2
}
