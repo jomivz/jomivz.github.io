{
 "cells": [
  {
   "cell_type": "code",
   "execution_count": null,
   "metadata": {},
   "outputs": [],
   "source": [
    "# Imports\n",
    "MIN_REQ_PYTHON = (3,6)\n",
    "import ldap3\n",
    "import pandas as pd\n",
    "import ipywidgets as widgets\n",
    "from IPython.display import display\n",
    "import string\n",
    "from tkinter import Tk\n",
    "from tkinter.filedialog import askopenfilename"
   ]
  },
  {
   "cell_type": "code",
   "execution_count": null,
   "metadata": {},
   "outputs": [],
   "source": [
    "# INPUT A DN LIST\n",
    "# ATTENTION: no header\n",
    "Tk().withdraw() # we don't want a full GUI, so keep the root window from appearing\n",
    "filename = askopenfilename() # show an \"Open\" dialog box and return the path to the selected file\n",
    "print(filename)\n",
    "\n",
    "#f = open(filename, \"r\")\n",
    "#print(f.read())\n",
    "df_dnlist = pd.read_csv(filename,sep=';',header=None)\n",
    "str_base_dn = \"\""
   ]
  },
  {
   "cell_type": "code",
   "execution_count": null,
   "metadata": {},
   "outputs": [],
   "source": [
    "# INPUT THE DC BASE TO TRIM\n",
    "str_base_dn = input()"
   ]
  },
  {
   "cell_type": "code",
   "execution_count": null,
   "metadata": {},
   "outputs": [],
   "source": [
    "print(str_base_dn)"
   ]
  },
  {
   "cell_type": "code",
   "execution_count": null,
   "metadata": {},
   "outputs": [],
   "source": [
    "# BUILD 'df_host_dn'\n",
    "d = {'host':[\"\"], 'dn':[\"\"]}\n",
    "\n",
    "df_host_dn = pd.DataFrame(data=d)\n",
    "index=0\n",
    "\n",
    "for str_dn in df_dnlist[1]:\n",
    "    \n",
    "    str_dn_short=\"\"\n",
    "\n",
    "    if str_base_dn != \"\":\n",
    "        str_dn_short = str_dn.strip().split(str_base_dn)[0]\n",
    "        str_dn_short = str_dn_short.strip(\",\")\n",
    "    else:\n",
    "        str_dn_short = str_dn.strip()\n",
    "    \n",
    "    df_dn_cast = ldap3.utils.dn.parse_dn(str_dn_short)\n",
    "    df_host_dn.at[index, 'host'] = df_dn_cast[0][1]\n",
    "    \n",
    "    i=0; ou =\"\"\n",
    "    for xn in df_dn_cast:\n",
    "        if i > 0:\n",
    "            ou = ou + xn[0]+\"=\"+xn[1]+xn[2]\n",
    "        i = i +1\n",
    "    \n",
    "    df_host_dn.at[index, 'dn'] = ou\n",
    "    index = index + 1\n",
    "\n",
    "display(df_host_dn)\n"
   ]
  },
  {
   "cell_type": "code",
   "execution_count": null,
   "metadata": {},
   "outputs": [],
   "source": [
    "# V1.0 => PLOT THE PIE CHART\n",
    "plotty = df_host_dn.groupby('dn').count()\n",
    "plot = plotty.plot.pie(y='host',autopct=\"%i\", figsize=(15,15))\n",
    "plot\n",
    "# filter ALB listening on ports 443 and 80 \n",
    "# pie chart per HTTP return code\n",
    "#ports = [80, 443]\n",
    "#dff = df[df.Port.isin(ports)]\n",
    "#plott = dff.groupby('HTTP return code').count()\n",
    "#plot = plott.plot.pie(y='Host', autopct=\"%i\", figsize=(5, 5))"
   ]
  },
  {
   "cell_type": "code",
   "execution_count": null,
   "metadata": {},
   "outputs": [],
   "source": [
    "# V1.1 => SUNBURST CHART / BUILD THE DF \n",
    "int_level_max = 0\n",
    "int_level_base_dn = 0\n",
    "\n",
    "if str_base_dn != \"\":\n",
    "    dict_base_dn = ldap3.utils.dn.parse_dn(str_base_dn)\n",
    "    int_level_base_dn = len(dict_base_dn)\n",
    "else:\n",
    "    dict_base_dn = None\n",
    "\n",
    "print (\"Base : \" + str_base_dn + \"\\nBase DN : \" + str(dict_base_dn) + \"\\nNb niveaux : \" + str(int_level_base_dn))\n",
    "\n",
    "### STEP 1: Compute the number of OU levels / Initialize the list_OUs\n",
    "for str_dn in df_host_dn['dn']:\n",
    "  \n",
    "    # get the dn + base + level_max\n",
    "    dict_dn_short=\"\"\n",
    "    dict_dn_cast = ldap3.utils.dn.parse_dn(str_dn)\n",
    "    int_dn_len = len(dict_dn_cast)\n",
    "    if ( int_dn_len > int_level_max):\n",
    "        int_level_max = int_dn_len\n",
    "\n",
    "w, h = len(df_dnlist[1]), int_level_max\n",
    "list_OUs = [[None for x in range(w)] for y in range(h)] \n",
    "\n",
    "print(\"Nb niveaux max: \" + str(int_level_max))\n",
    "\n",
    "### STEP 2: Populate df_OUs\n",
    "idx=0\n",
    "for str_dn in df_host_dn['dn']:\n",
    "           \n",
    "    dict_dn_cast = ldap3.utils.dn.parse_dn(str_dn)\n",
    "    int_dn_len = len(dict_dn_cast)\n",
    "\n",
    "    i = int_dn_len - 1\n",
    "    for xn in dict_dn_cast: \n",
    "        ou = xn[0]+\"=\"+xn[1]\n",
    "        list_OUs[i][idx] = ou\n",
    "        i = i - 1\n",
    "\n",
    "    idx = idx + 1"
   ]
  },
  {
   "cell_type": "code",
   "execution_count": null,
   "metadata": {},
   "outputs": [],
   "source": [
    "# V1.1 => PLOT THE SUNBURST CHART \n",
    "import plotly.express as px\n",
    "from plotly.offline import iplot \n",
    "\n",
    "hits = [1 for x in range(idx)]\n",
    "dff = pd.DataFrame(dict(ou0=list_OUs[0], ou1=list_OUs[1], ou2=list_OUs[2], ou3=list_OUs[3], ou4=list_OUs[4], hits=hits))\n",
    "#dff = dff.dropna()\n",
    "fig = px.sunburst(dff, path=['ou0','ou1', 'ou2', 'ou3', 'ou4'],values='hits')\n",
    "fig.show()"
   ]
  },
  {
   "cell_type": "code",
   "execution_count": null,
   "metadata": {},
   "outputs": [],
   "source": [
    "# EXPORT THE CHART TO SVG\n",
    "import plotly.graph_objects as go\n",
    "f = go.Figure( fig)\n",
    "f.write_image(\"fig1.svg\")"
   ]
  }
 ],
 "metadata": {
  "kernelspec": {
   "display_name": "Python 3.8.8 ('base')",
   "language": "python",
   "name": "python3"
  },
  "language_info": {
   "codemirror_mode": {
    "name": "ipython",
    "version": 3
   },
   "file_extension": ".py",
   "mimetype": "text/x-python",
   "name": "python",
   "nbconvert_exporter": "python",
   "pygments_lexer": "ipython3",
   "version": "3.8.8"
  },
  "orig_nbformat": 4,
  "vscode": {
   "interpreter": {
    "hash": "7307bd6c5b0f4221b86148b5c729dd4788a5dc4445738a3debd1c90d91837807"
   }
  }
 },
 "nbformat": 4,
 "nbformat_minor": 2
}
