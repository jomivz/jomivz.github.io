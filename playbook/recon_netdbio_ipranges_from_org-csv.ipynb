{
 "cells": [
  {
   "cell_type": "code",
   "execution_count": 1,
   "metadata": {},
   "outputs": [],
   "source": [
    "import csv\n",
    "from networksdb import NetworksDB\n",
    "import pandas as pd\n",
    "import datetime"
   ]
  },
  {
   "cell_type": "code",
   "execution_count": null,
   "metadata": {},
   "outputs": [],
   "source": [
    "# OPTION 1 : import the key api named 'networksdb' from the keyring manager\n",
    "# below the python cli (to execute once) create the api key : \n",
    "# >>> import keyring\n",
    "# >>> import readline\n",
    "# >>> keyring.set_password(service_name=\"networksdb\",username=\"None\",password=\"xxx\")\n",
    "# >>> readline.clear_history()\n",
    "import keyring\n",
    "keyring.get_keyring()\n",
    "netdbio_apikey = keyring.get_credential(\"networksdb\", \"None\")\n",
    "netdbio_api = NetworksDB(netdbio_apikey.password)"
   ]
  },
  {
   "cell_type": "code",
   "execution_count": 2,
   "metadata": {},
   "outputs": [],
   "source": [
    "# OPTION 2 : import the key api named from the environment variable \n",
    "import os\n",
    "#netdbio_apikey = os.environ['NETDBIO_API_KEY']\n",
    "netdbio_apikey = input()\n",
    "netdbio_api = NetworksDB(netdbio_apikey)"
   ]
  },
  {
   "cell_type": "code",
   "execution_count": 20,
   "metadata": {},
   "outputs": [
    {
     "name": "stdout",
     "output_type": "stream",
     "text": [
      "F:/red_009/inventory/_brands/brands_luxo.txt\n",
      "                       0\n",
      "0            ALAIN MIKLI\n",
      "1              BARBERINI\n",
      "2       ESSILORLUXOTTICA\n",
      "3                 EYEMED\n",
      "4            GLASSES.COM\n",
      "5           LENSCRAFTERS\n",
      "6              LUXOTTICA\n",
      "7                 OAKLEY\n",
      "8   OPTICAL PRESCRIPTION\n",
      "9                 PEARLE\n",
      "10                RAYBAN\n",
      "11        SUNGLASSES HUT\n"
     ]
    }
   ],
   "source": [
    "from tkinter import Tk\n",
    "from tkinter.filedialog import askopenfilename\n",
    "\n",
    "Tk().withdraw() # we don't want a full GUI, so keep the root window from appearing\n",
    "filename = askopenfilename() # show an \"Open\" dialog box and return the path to the selected file\n",
    "print(filename)\n",
    "\n",
    "org_list = pd.read_csv(filename, header=None)\n",
    "print(org_list)"
   ]
  },
  {
   "cell_type": "code",
   "execution_count": 26,
   "metadata": {},
   "outputs": [],
   "source": [
    "def save_ipranges_to_csv(org_name):\n",
    "    \n",
    "    org_data = netdbio_api.org_search(org_name)\n",
    "    org_net_list = []\n",
    "    \n",
    "    for i in range(0,len(org_data.results)-1) :\n",
    "\n",
    "        net_id = org_data.results[i].id\n",
    "        ipranges = netdbio_api.org_networks(net_id)\n",
    "\n",
    "        for ipr in ipranges.results:\n",
    "\n",
    "            if ipr.cidr != \"N/A\":            \n",
    "                ipr_sum = [ipr.netname, ipr.description, ipr.cidr]\n",
    "                org_net_list.append(ipr_sum)\n",
    "\n",
    "    pd.set_option('display.max_colwidth', None)            \n",
    "    df = pd.DataFrame(org_net_list, columns=['net_name', 'desc', 'IP'])\n",
    "    df.set_index('net_name', inplace=True)\n",
    "    current_date = datetime.datetime.now()\n",
    "    cdate = str(current_date.year) + f'{current_date.month:02d}' + f'{current_date.day:02d}'\n",
    "    print(org_name)\n",
    "    input_file = \"~/NetDBio_IPranges_\" + org_name.strip() + \"_\" + cdate\n",
    "    df.to_csv(str(input_file + '.csv'))"
   ]
  },
  {
   "cell_type": "code",
   "execution_count": 27,
   "metadata": {},
   "outputs": [
    {
     "name": "stdout",
     "output_type": "stream",
     "text": [
      "0              ALAIN MIKLI\n",
      "1                BARBERINI\n",
      "2         ESSILORLUXOTTICA\n",
      "3                   EYEMED\n",
      "4              GLASSES.COM\n",
      "5             LENSCRAFTERS\n",
      "6                LUXOTTICA\n",
      "7                   OAKLEY\n",
      "8     OPTICAL PRESCRIPTION\n",
      "9                   PEARLE\n",
      "10                  RAYBAN\n",
      "11          SUNGLASSES HUT\n",
      "Name: 0, dtype: object\n",
      "0              ALAIN MIKLI\n",
      "1                BARBERINI\n",
      "2         ESSILORLUXOTTICA\n",
      "3                   EYEMED\n",
      "4              GLASSES.COM\n",
      "5             LENSCRAFTERS\n",
      "6                LUXOTTICA\n",
      "7                   OAKLEY\n",
      "8     OPTICAL PRESCRIPTION\n",
      "9                   PEARLE\n",
      "10                  RAYBAN\n",
      "11          SUNGLASSES HUT\n",
      "Name: 0, dtype: object\n"
     ]
    },
    {
     "ename": "AttributeError",
     "evalue": "'Series' object has no attribute 'strip'",
     "output_type": "error",
     "traceback": [
      "\u001b[1;31m---------------------------------------------------------------------------\u001b[0m",
      "\u001b[1;31mAttributeError\u001b[0m                            Traceback (most recent call last)",
      "\u001b[1;32m<ipython-input-27-396a30f77ee0>\u001b[0m in \u001b[0;36m<module>\u001b[1;34m\u001b[0m\n\u001b[0;32m      1\u001b[0m \u001b[1;32mfor\u001b[0m \u001b[0mindex\u001b[0m\u001b[1;33m,\u001b[0m \u001b[0morg\u001b[0m \u001b[1;32min\u001b[0m \u001b[0morg_list\u001b[0m\u001b[1;33m.\u001b[0m\u001b[0miteritems\u001b[0m\u001b[1;33m(\u001b[0m\u001b[1;33m)\u001b[0m\u001b[1;33m:\u001b[0m\u001b[1;33m\u001b[0m\u001b[1;33m\u001b[0m\u001b[0m\n\u001b[0;32m      2\u001b[0m     \u001b[0mprint\u001b[0m\u001b[1;33m(\u001b[0m\u001b[0morg\u001b[0m\u001b[1;33m)\u001b[0m\u001b[1;33m\u001b[0m\u001b[1;33m\u001b[0m\u001b[0m\n\u001b[1;32m----> 3\u001b[1;33m     \u001b[0msave_ipranges_to_csv\u001b[0m\u001b[1;33m(\u001b[0m\u001b[0morg\u001b[0m\u001b[1;33m)\u001b[0m\u001b[1;33m\u001b[0m\u001b[1;33m\u001b[0m\u001b[0m\n\u001b[0m",
      "\u001b[1;32m<ipython-input-26-9d80ef18403e>\u001b[0m in \u001b[0;36msave_ipranges_to_csv\u001b[1;34m(org_name)\u001b[0m\n\u001b[0;32m     21\u001b[0m     \u001b[0mcdate\u001b[0m \u001b[1;33m=\u001b[0m \u001b[0mstr\u001b[0m\u001b[1;33m(\u001b[0m\u001b[0mcurrent_date\u001b[0m\u001b[1;33m.\u001b[0m\u001b[0myear\u001b[0m\u001b[1;33m)\u001b[0m \u001b[1;33m+\u001b[0m \u001b[1;34mf'{current_date.month:02d}'\u001b[0m \u001b[1;33m+\u001b[0m \u001b[1;34mf'{current_date.day:02d}'\u001b[0m\u001b[1;33m\u001b[0m\u001b[1;33m\u001b[0m\u001b[0m\n\u001b[0;32m     22\u001b[0m     \u001b[0mprint\u001b[0m\u001b[1;33m(\u001b[0m\u001b[0morg_name\u001b[0m\u001b[1;33m)\u001b[0m\u001b[1;33m\u001b[0m\u001b[1;33m\u001b[0m\u001b[0m\n\u001b[1;32m---> 23\u001b[1;33m     \u001b[0minput_file\u001b[0m \u001b[1;33m=\u001b[0m \u001b[1;34m\"~/NetDBio_IPranges_\"\u001b[0m \u001b[1;33m+\u001b[0m \u001b[0morg_name\u001b[0m\u001b[1;33m.\u001b[0m\u001b[0mstrip\u001b[0m\u001b[1;33m(\u001b[0m\u001b[1;33m)\u001b[0m \u001b[1;33m+\u001b[0m \u001b[1;34m\"_\"\u001b[0m \u001b[1;33m+\u001b[0m \u001b[0mcdate\u001b[0m\u001b[1;33m\u001b[0m\u001b[1;33m\u001b[0m\u001b[0m\n\u001b[0m\u001b[0;32m     24\u001b[0m     \u001b[0mdf\u001b[0m\u001b[1;33m.\u001b[0m\u001b[0mto_csv\u001b[0m\u001b[1;33m(\u001b[0m\u001b[0mstr\u001b[0m\u001b[1;33m(\u001b[0m\u001b[0minput_file\u001b[0m \u001b[1;33m+\u001b[0m \u001b[1;34m'.csv'\u001b[0m\u001b[1;33m)\u001b[0m\u001b[1;33m)\u001b[0m\u001b[1;33m\u001b[0m\u001b[1;33m\u001b[0m\u001b[0m\n",
      "\u001b[1;32mc:\\Users\\michelj\\Anaconda3\\lib\\site-packages\\pandas\\core\\generic.py\u001b[0m in \u001b[0;36m__getattr__\u001b[1;34m(self, name)\u001b[0m\n\u001b[0;32m   5463\u001b[0m             \u001b[1;32mif\u001b[0m \u001b[0mself\u001b[0m\u001b[1;33m.\u001b[0m\u001b[0m_info_axis\u001b[0m\u001b[1;33m.\u001b[0m\u001b[0m_can_hold_identifiers_and_holds_name\u001b[0m\u001b[1;33m(\u001b[0m\u001b[0mname\u001b[0m\u001b[1;33m)\u001b[0m\u001b[1;33m:\u001b[0m\u001b[1;33m\u001b[0m\u001b[1;33m\u001b[0m\u001b[0m\n\u001b[0;32m   5464\u001b[0m                 \u001b[1;32mreturn\u001b[0m \u001b[0mself\u001b[0m\u001b[1;33m[\u001b[0m\u001b[0mname\u001b[0m\u001b[1;33m]\u001b[0m\u001b[1;33m\u001b[0m\u001b[1;33m\u001b[0m\u001b[0m\n\u001b[1;32m-> 5465\u001b[1;33m             \u001b[1;32mreturn\u001b[0m \u001b[0mobject\u001b[0m\u001b[1;33m.\u001b[0m\u001b[0m__getattribute__\u001b[0m\u001b[1;33m(\u001b[0m\u001b[0mself\u001b[0m\u001b[1;33m,\u001b[0m \u001b[0mname\u001b[0m\u001b[1;33m)\u001b[0m\u001b[1;33m\u001b[0m\u001b[1;33m\u001b[0m\u001b[0m\n\u001b[0m\u001b[0;32m   5466\u001b[0m \u001b[1;33m\u001b[0m\u001b[0m\n\u001b[0;32m   5467\u001b[0m     \u001b[1;32mdef\u001b[0m \u001b[0m__setattr__\u001b[0m\u001b[1;33m(\u001b[0m\u001b[0mself\u001b[0m\u001b[1;33m,\u001b[0m \u001b[0mname\u001b[0m\u001b[1;33m:\u001b[0m \u001b[0mstr\u001b[0m\u001b[1;33m,\u001b[0m \u001b[0mvalue\u001b[0m\u001b[1;33m)\u001b[0m \u001b[1;33m->\u001b[0m \u001b[1;32mNone\u001b[0m\u001b[1;33m:\u001b[0m\u001b[1;33m\u001b[0m\u001b[1;33m\u001b[0m\u001b[0m\n",
      "\u001b[1;31mAttributeError\u001b[0m: 'Series' object has no attribute 'strip'"
     ]
    }
   ],
   "source": [
    "i=0\n",
    "for index, org in org_list.iteritems():\n",
    "    print(i)\n",
    "    save_ipranges_to_csv(org)\n",
    "    ++i"
   ]
  },
  {
   "cell_type": "code",
   "execution_count": 10,
   "metadata": {},
   "outputs": [
    {
     "ename": "NameError",
     "evalue": "name 'org_name' is not defined",
     "output_type": "error",
     "traceback": [
      "\u001b[1;31m---------------------------------------------------------------------------\u001b[0m",
      "\u001b[1;31mNameError\u001b[0m                                 Traceback (most recent call last)",
      "\u001b[1;32m<ipython-input-10-d05b42ee7ab7>\u001b[0m in \u001b[0;36m<module>\u001b[1;34m\u001b[0m\n\u001b[1;32m----> 1\u001b[1;33m \u001b[0mprint\u001b[0m\u001b[1;33m(\u001b[0m\u001b[0morg_name\u001b[0m\u001b[1;33m)\u001b[0m\u001b[1;33m\u001b[0m\u001b[1;33m\u001b[0m\u001b[0m\n\u001b[0m",
      "\u001b[1;31mNameError\u001b[0m: name 'org_name' is not defined"
     ]
    }
   ],
   "source": [
    "print(org_name)"
   ]
  }
 ],
 "metadata": {
  "interpreter": {
   "hash": "97cc609b13305c559618ec78a438abc56230b9381f827f22d070313b9a1f3777"
  },
  "kernelspec": {
   "display_name": "Python 3.10.1 64-bit",
   "language": "python",
   "name": "python3"
  },
  "language_info": {
   "codemirror_mode": {
    "name": "ipython",
    "version": 3
   },
   "file_extension": ".py",
   "mimetype": "text/x-python",
   "name": "python",
   "nbconvert_exporter": "python",
   "pygments_lexer": "ipython3",
   "version": "3.8.8"
  },
  "orig_nbformat": 4
 },
 "nbformat": 4,
 "nbformat_minor": 2
}
