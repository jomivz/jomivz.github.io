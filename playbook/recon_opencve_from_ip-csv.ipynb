{
 "cells": [
  {
   "cell_type": "code",
   "execution_count": 2,
   "metadata": {},
   "outputs": [],
   "source": [
    "# IMPORTS\n",
    "import csv\n",
    "import requests\n",
    "import datetime\n",
    "from requests.auth import HTTPBasicAuth\n",
    "import json\n",
    "import pandas as pd\n",
    "#from pandas.io.json import json_normalize"
   ]
  },
  {
   "cell_type": "code",
   "execution_count": 24,
   "metadata": {},
   "outputs": [],
   "source": [
    "# OPTION 2 : import the key api named from the environment variable \n",
    "import os\n",
    "opencve_user_name = input()\n",
    "opencve_user_pass = input()"
   ]
  },
  {
   "cell_type": "code",
   "execution_count": 25,
   "metadata": {},
   "outputs": [
    {
     "name": "stdout",
     "output_type": "stream",
     "text": [
      "C:/Users/michelj/OneDrive - Luxottica Group S.p.A/Documents/xchange.csv\n"
     ]
    }
   ],
   "source": [
    "# INPUT CSV FILE \n",
    "from tkinter import Tk\n",
    "from tkinter.filedialog import askopenfilename\n",
    "\n",
    "Tk().withdraw() # we don't want a full GUI, so keep the root window from appearing\n",
    "filename = askopenfilename() # show an \"Open\" dialog box and return the path to the selected file\n",
    "print(filename)\n",
    "\n",
    "ip_list = pd.read_csv(filename)\n",
    "#print(ip_list)"
   ]
  },
  {
   "cell_type": "code",
   "execution_count": 52,
   "metadata": {},
   "outputs": [],
   "source": [
    "## curl -u user:pass https://www.opencve.io/api/cve\n",
    "# https://docs.opencve.io/api/cve/\n",
    "# opencve_url = \"https://www.opencve.io/api/vendors/microsoft/products/exchange_server\"\n",
    "# opencve_url = \"https://www.opencve.io/api/vendors/microsoft/products/exchange_server/cvss/critical\"\n",
    "# header={'vendor': vendor, 'product': product, 'cvss': cvss}\n",
    "opencve_url = \"https://www.opencve.io/api/cve?vendor=\"+vendor+\"&product=\"+product+\"&cvss=\"+cvss\n",
    "vendor      = \"microsoft\"\n",
    "product     = \"exchange_server\"\n",
    "cvss        = \"critical\"\n",
    "cwe         = \"\"\n",
    "jsonResponse = []\n",
    "\n",
    "try:\n",
    "    res = requests.get(opencve_url, auth=(opencve_user_name, opencve_user_pass))\n",
    "    jsonResponse = res.json()\n",
    "\n",
    "except requests.exceptions.SSLError as ssl_error:\n",
    "    inner_exception = ssl_error.args[0]\n",
    "    inner_ssl_error = inner_exception.reason.args[0]\n",
    "    if str(inner_ssl_error).find('SSL: CERTIFICATE_VERIFY_FAILED') == -1:\n",
    "        for key, value in vars(inner_ssl_error).items():\n",
    "            dnshost = value['subject'][0][0][1]\n",
    "            is_ssl_error = True\n",
    "            for alt in value['subjectAltName']:\n",
    "                if alt[0]==\"DNS\":\n",
    "                    san.append(alt[1])\n",
    "                pass\n",
    "            \n",
    "except Exception as e:\n",
    "    print(type(e))\n",
    "    print(e)\n",
    "                \n",
    "except requests.exceptions.RequestException as e:\n",
    "    print(\"Error: \", e)\n",
    "    pass\n",
    "            \n",
    "except urllib3.exceptions as e:\n",
    "    print(\"Error: \", e)\n",
    "    pass\n",
    "            \n",
    "except socket.gaierror as e:\n",
    "    print(\"Error: \", e)\n",
    "    pass"
   ]
  },
  {
   "cell_type": "code",
   "execution_count": 53,
   "metadata": {},
   "outputs": [
    {
     "data": {
      "text/plain": [
       "[{'id': 'CVE-2021-34523',\n",
       "  'summary': 'Microsoft Exchange Server Elevation of Privilege Vulnerability This CVE ID is unique from CVE-2021-33768, CVE-2021-34470.',\n",
       "  'created_at': '2021-07-14T18:15:00Z',\n",
       "  'updated_at': '2022-07-12T17:42:00Z'},\n",
       " {'id': 'CVE-2021-26855',\n",
       "  'summary': 'Microsoft Exchange Server Remote Code Execution Vulnerability This CVE ID is unique from CVE-2021-26412, CVE-2021-26854, CVE-2021-26857, CVE-2021-26858, CVE-2021-27065, CVE-2021-27078.',\n",
       "  'created_at': '2021-03-03T00:15:00Z',\n",
       "  'updated_at': '2022-07-12T17:42:00Z'},\n",
       " {'id': 'CVE-2021-34473',\n",
       "  'summary': 'Microsoft Exchange Server Remote Code Execution Vulnerability This CVE ID is unique from CVE-2021-31196, CVE-2021-31206.',\n",
       "  'created_at': '2021-07-14T18:15:00Z',\n",
       "  'updated_at': '2022-07-12T17:42:00Z'},\n",
       " {'id': 'CVE-2022-21969',\n",
       "  'summary': 'Microsoft Exchange Server Remote Code Execution Vulnerability. This CVE ID is unique from CVE-2022-21846, CVE-2022-21855.',\n",
       "  'created_at': '2022-01-11T21:15:00Z',\n",
       "  'updated_at': '2022-01-21T14:09:00Z'},\n",
       " {'id': 'CVE-2022-21846',\n",
       "  'summary': 'Microsoft Exchange Server Remote Code Execution Vulnerability. This CVE ID is unique from CVE-2022-21855, CVE-2022-21969.',\n",
       "  'created_at': '2022-01-11T21:15:00Z',\n",
       "  'updated_at': '2022-01-14T17:33:00Z'},\n",
       " {'id': 'CVE-2022-21855',\n",
       "  'summary': 'Microsoft Exchange Server Remote Code Execution Vulnerability. This CVE ID is unique from CVE-2022-21846, CVE-2022-21969.',\n",
       "  'created_at': '2022-01-11T21:15:00Z',\n",
       "  'updated_at': '2022-01-14T16:14:00Z'},\n",
       " {'id': 'CVE-2021-26427',\n",
       "  'summary': 'Microsoft Exchange Server Remote Code Execution Vulnerability',\n",
       "  'created_at': '2021-10-13T01:15:00Z',\n",
       "  'updated_at': '2021-10-19T23:09:00Z'},\n",
       " {'id': 'CVE-2020-17142',\n",
       "  'summary': 'Microsoft Exchange Remote Code Execution Vulnerability This CVE ID is unique from CVE-2020-17117, CVE-2020-17132, CVE-2020-17141, CVE-2020-17144.',\n",
       "  'created_at': '2020-12-10T00:15:00Z',\n",
       "  'updated_at': '2021-07-21T11:39:00Z'},\n",
       " {'id': 'CVE-2020-17132',\n",
       "  'summary': 'Microsoft Exchange Remote Code Execution Vulnerability This CVE ID is unique from CVE-2020-17117, CVE-2020-17141, CVE-2020-17142, CVE-2020-17144.',\n",
       "  'created_at': '2020-12-10T00:15:00Z',\n",
       "  'updated_at': '2021-07-21T11:39:00Z'},\n",
       " {'id': 'CVE-2021-28483',\n",
       "  'summary': 'Microsoft Exchange Server Remote Code Execution Vulnerability This CVE ID is unique from CVE-2021-28480, CVE-2021-28481, CVE-2021-28482.',\n",
       "  'created_at': '2021-04-13T20:15:00Z',\n",
       "  'updated_at': '2021-04-14T13:01:00Z'},\n",
       " {'id': 'CVE-2021-28480',\n",
       "  'summary': 'Microsoft Exchange Server Remote Code Execution Vulnerability This CVE ID is unique from CVE-2021-28481, CVE-2021-28482, CVE-2021-28483.',\n",
       "  'created_at': '2021-04-13T20:15:00Z',\n",
       "  'updated_at': '2021-04-14T13:00:00Z'},\n",
       " {'id': 'CVE-2021-28481',\n",
       "  'summary': 'Microsoft Exchange Server Remote Code Execution Vulnerability This CVE ID is unique from CVE-2021-28480, CVE-2021-28482, CVE-2021-28483.',\n",
       "  'created_at': '2021-04-13T20:15:00Z',\n",
       "  'updated_at': '2021-04-14T12:58:00Z'},\n",
       " {'id': 'CVE-2019-0586',\n",
       "  'summary': 'A remote code execution vulnerability exists in Microsoft Exchange software when the software fails to properly handle objects in memory, aka \"Microsoft Exchange Memory Corruption Vulnerability.\" This affects Microsoft Exchange Server.',\n",
       "  'created_at': '2019-01-08T21:29:00Z',\n",
       "  'updated_at': '2020-08-24T17:37:00Z'},\n",
       " {'id': 'CVE-2018-8154',\n",
       "  'summary': 'A remote code execution vulnerability exists in Microsoft Exchange software when the software fails to properly handle objects in memory, aka \"Microsoft Exchange Memory Corruption Vulnerability.\" This affects Microsoft Exchange Server. This CVE ID is unique from CVE-2018-8151.',\n",
       "  'created_at': '2018-05-09T19:29:00Z',\n",
       "  'updated_at': '2020-08-24T17:37:00Z'},\n",
       " {'id': 'CVE-2018-8302',\n",
       "  'summary': 'A remote code execution vulnerability exists in Microsoft Exchange software when the software fails to properly handle objects in memory, aka \"Microsoft Exchange Memory Corruption Vulnerability.\" This affects Microsoft Exchange Server.',\n",
       "  'created_at': '2018-08-15T17:29:00Z',\n",
       "  'updated_at': '2020-08-24T17:37:00Z'},\n",
       " {'id': 'CVE-2019-1373',\n",
       "  'summary': \"A remote code execution vulnerability exists in Microsoft Exchange through the deserialization of metadata via PowerShell, aka 'Microsoft Exchange Remote Code Execution Vulnerability'.\",\n",
       "  'created_at': '2019-11-12T19:15:00Z',\n",
       "  'updated_at': '2019-11-14T19:34:00Z'}]"
      ]
     },
     "execution_count": 53,
     "metadata": {},
     "output_type": "execute_result"
    }
   ],
   "source": [
    "jsonResponse"
   ]
  },
  {
   "cell_type": "code",
   "execution_count": null,
   "metadata": {},
   "outputs": [],
   "source": [
    "# \n",
    "import ipaddress \n",
    "\n",
    "def get_ipranges(list,res):\n",
    "    \n",
    "    for idx,ip in list.iterrows() :\n",
    "        try:\n",
    "            ip_data = netdbio_api.ip_info(ip[0])\n",
    "            net = ip_data.network.cidr\n",
    "            res.append([ip_data.network.cidr, ip_data.network.netname,ip_data.organisation.name])\n",
    "        except Exception as e:\n",
    "            print(e)"
   ]
  },
  {
   "cell_type": "code",
   "execution_count": null,
   "metadata": {},
   "outputs": [],
   "source": [
    "net_list = [[]]\n",
    "get_ipranges(ip_list,net_list)"
   ]
  },
  {
   "cell_type": "code",
   "execution_count": null,
   "metadata": {},
   "outputs": [],
   "source": [
    "df = pd.DataFrame(net_list, columns=['net_name', 'net_desc', 'org_name'])\n",
    "df = df.drop_duplicates(subset=None, keep=\"first\", inplace=False)\n",
    "print(df)\n",
    "#    pd.set_option('display.max_colwidth', None)            \n",
    "#    df = pd.DataFrame(ip_net_list, columns=['net_name', 'desc', 'IP'])\n",
    "#    df.set_index('net_name', inplace=True)\n",
    "#    current_date = datetime.datetime.now()\n",
    "#    cdate = str(current_date.year) + f'{current_date.month:02d}' + f'{current_date.day:02d}'\n",
    "#    input_file = \"~/NetDBio_IPranges_\" + ip_host + \"_\" + cdate\n",
    "#    df.to_csv(str(input_file + '.csv'))"
   ]
  },
  {
   "cell_type": "code",
   "execution_count": null,
   "metadata": {},
   "outputs": [],
   "source": [
    "# TEST APIprint(ip_data)\n",
    "#ip_data = netdbio_api.ip_info(\"8.8.8.8\")\n",
    "#print(ip_data)"
   ]
  }
 ],
 "metadata": {
  "kernelspec": {
   "display_name": "Python 3.8.8 ('base')",
   "language": "python",
   "name": "python3"
  },
  "language_info": {
   "codemirror_mode": {
    "name": "ipython",
    "version": 3
   },
   "file_extension": ".py",
   "mimetype": "text/x-python",
   "name": "python",
   "nbconvert_exporter": "python",
   "pygments_lexer": "ipython3",
   "version": "3.11.4"
  },
  "orig_nbformat": 4,
  "vscode": {
   "interpreter": {
    "hash": "7307bd6c5b0f4221b86148b5c729dd4788a5dc4445738a3debd1c90d91837807"
   }
  }
 },
 "nbformat": 4,
 "nbformat_minor": 2
}
