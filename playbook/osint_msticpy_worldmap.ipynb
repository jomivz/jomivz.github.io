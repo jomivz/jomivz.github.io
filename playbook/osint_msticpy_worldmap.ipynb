{
 "cells": [
  {
   "cell_type": "code",
   "execution_count": 1,
   "metadata": {
    "scrolled": true
   },
   "outputs": [],
   "source": [
    "# INITIALIZATION / IMPORTS\n",
    "import sys\n",
    "MIN_REQ_PYTHON = (3,6)\n",
    "if sys.version_info < MIN_REQ_PYTHON:\n",
    "    print('Check the Kernel->Change Kernel menu and ensure that Python 3.6')\n",
    "    print('or later is selected as the active kernel.')\n",
    "    sys.exit(\"Python %s.%s or later is required.\\n\" % MIN_REQ_PYTHON)\n",
    "\n",
    "\n",
    "from IPython.display import display\n",
    "import pandas as pd\n",
    "\n",
    "import msticpy.sectools as sectools\n",
    "import msticpy.nbtools as mas\n",
    "from msticpy.sectools import VTLookup, IoCExtract\n",
    "from msticpy.sectools.geoip import GeoLiteLookup, IPStackLookup\n",
    "from msticpy.nbtools.entityschema import IpAddress, GeoLocation\n",
    "from msticpy.nbtools.foliummap import FoliumMap"
   ]
  },
  {
   "cell_type": "code",
   "execution_count": 2,
   "metadata": {},
   "outputs": [],
   "source": [
    "# OPTION 1 : import the key api named 'vt' from the keyring manager\n",
    "# below the python cli (to execute once) create the api key : \n",
    "# >>> import keyring\n",
    "# >>> import readline\n",
    "# >>> keyring.set_password(service_name=\"vt\",username=\"None\",password=\"xxx\")\n",
    "# >>> readline.clear_history()\n",
    "import keyring\n",
    "keyring.get_keyring()\n",
    "vt_apikey = keyring.get_credential(\"vt\", \"None\")"
   ]
  },
  {
   "cell_type": "code",
   "execution_count": 1,
   "metadata": {},
   "outputs": [],
   "source": [
    "# OPTION 2 : import the key api named from the environment variable \n",
    "import os\n",
    "vt_apikey = os.environ['VT_API_KEY']"
   ]
  },
  {
   "cell_type": "code",
   "execution_count": null,
   "metadata": {},
   "outputs": [],
   "source": [
    "# STEP 1 / CREATE A VTLOOKUP INSTANCE\n",
    "vt_lookup = sectools.VTLookup(vt_apikey, verbosity=2)\n",
    "# How these map to VT lookup types\n",
    "# VTLookup._VT_TYPE_MAP"
   ]
  },
  {
   "cell_type": "code",
   "execution_count": null,
   "metadata": {},
   "outputs": [],
   "source": [
    "# STEP 2.1 / LOAD AN IP LIST\n",
    "# CSV format is N columns with at least one column named 'IP' \n",
    "from tkinter import Tk\n",
    "from tkinter.filedialog import askopenfilename\n",
    "\n",
    "Tk().withdraw() # we don't want a full GUI, so keep the root window from appearing\n",
    "filename = askopenfilename() # show an \"Open\" dialog box and return the path to the selected file\n",
    "print(filename)\n",
    "\n",
    "ip_list = pd.read_csv(filename)\n",
    "ip_list.drop_duplicates(subset='IP',inplace=True)\n",
    "#iplist\n",
    "\n",
    "ioc_extractor = IoCExtract()\n",
    "vt_lookup = VTLookup(vt_apikey, verbosity=2)\n",
    "output_df = ioc_extractor.extract(data=ip_list, \n",
    "                                  columns=['IP'], \n",
    "                                  ioc_types=vt_lookup.supported_ioc_types)\n",
    "output_df"
   ]
  },
  {
   "cell_type": "code",
   "execution_count": 4,
   "metadata": {},
   "outputs": [
    {
     "data": {
      "application/vnd.jupyter.widget-view+json": {
       "model_id": "0d466042bc0946249471133bff5ceaa5",
       "version_major": 2,
       "version_minor": 0
      },
      "text/plain": [
       "VBox(children=(Text(value='', description='IP Address', placeholder='', style=DescriptionStyle(description_wid…"
      ]
     },
     "metadata": {},
     "output_type": "display_data"
    }
   ],
   "source": [
    "# STEP 2.2 / ENTER AN IP ADDRESS\n",
    "import ipywidgets as widgets\n",
    "ip_addr = widgets.Text(\n",
    "    value='',\n",
    "    placeholder='',\n",
    "    description='IP Address',\n",
    "    style={'description_width': '178px'},\n",
    "    disabled=False\n",
    ")\n",
    "\n",
    "widgets.VBox([ip_addr])\n",
    "\n"
   ]
  },
  {
   "cell_type": "code",
   "execution_count": null,
   "metadata": {},
   "outputs": [],
   "source": [
    "# STEP 2.2 / LOAD THE IP ADDRESS \n",
    "ip_list = pd.DataFrame([{'IP':ip_addr.value}])\n",
    "ip_list\n",
    "ioc_extractor = IoCExtract()\n",
    "vt_lookup = VTLookup(vt_apikey, verbosity=2)\n",
    "output_df = ioc_extractor.extract(data=ip_list, \n",
    "                                  columns=['IP'], \n",
    "                                  ioc_types=vt_lookup.supported_ioc_types)\n",
    "output_df"
   ]
  },
  {
   "cell_type": "code",
   "execution_count": null,
   "metadata": {},
   "outputs": [],
   "source": [
    "# STEP 3 / Check the reputation of the iplist in VirusTotal\n",
    "from past.builtins import xrange\n",
    "vt_lookup = VTLookup(vt_apikey, verbosity=2)\n",
    "vt_res = [[]]\n",
    "\n",
    "# Submit a subset of the found IoCs (ignore dns since a lot of )\n",
    "vt_results = vt_lookup.lookup_iocs(data=output_df, \n",
    "                                   type_col='IoCType', \n",
    "                                   src_col='Observable')\n",
    "\n",
    "#clean the DF, deleting uninteresting cols\n",
    "vt_res = vt_results.drop(columns=['IoCType', 'Status', 'ResponseCode', 'RawResponse', 'Resource', 'SourceIndex', 'VerboseMsg', 'Resource', 'ScanId', 'Permalink', 'MD5', 'SHA1', 'SHA256', 'ResolvedIPs'])\n"
   ]
  },
  {
   "cell_type": "code",
   "execution_count": null,
   "metadata": {},
   "outputs": [],
   "source": [
    "# STEP 4 / GEOLOCATE THE IP(S) ADDRESS(ES)\n",
    "iplocation = GeoLiteLookup()\n",
    "vt_res = iplocation.df_lookup_ip(vt_res,'Observable')\n",
    "display(vt_res)\n",
    "\n",
    "folium_map = FoliumMap(location=[vt_res.Latitude.mean(), vt_res.Longitude.mean()], zoom_start=1)\n",
    "# Set Icon properties to display\n",
    "icon_props = {\"color\": \"green\"}\n",
    "\n",
    "def create_ip_entity(row):\n",
    "    ip_ent = IpAddress(Address=row[\"Observable\"])\n",
    "    geo_loc = create_geo_entity(row)\n",
    "    ip_ent.Location = geo_loc\n",
    "    return ip_ent\n",
    "\n",
    "def create_geo_entity(row):\n",
    "    # get subset of fields for GeoLocation\n",
    "    loc_props = row[[\"CountryCode_x\", \"CountryName_x\", \"City_x\", \"Longitude_x\", \"Latitude_x\"]]\n",
    "    geo_loc = GeoLocation(**loc_props.to_dict())\n",
    "    return geo_loc\n",
    "\n",
    "# Set additional properties to display in tooltips\n",
    "# in AdditionalData property of IpAddress entities\n",
    "geo_locs = list(vt_res.apply(create_geo_entity, axis=1).values)\n",
    "ip_ents = list(vt_res.apply(create_ip_entity, axis=1).values)\n",
    "folium_map.add_ip_cluster(ip_entities=ip_ents, **icon_props)\n",
    "\n",
    "# display the map (or just have folium_map as the last statement\n",
    "# of the cell - Jupyter will use display() automatically)\n",
    "display(folium_map)\n",
    "#folium_map.save('result.html')\n",
    "#os.system('explorer.exe result.html')"
   ]
  },
  {
   "cell_type": "code",
   "execution_count": 9,
   "metadata": {},
   "outputs": [],
   "source": [
    "#folium_map.save('result.html')"
   ]
  }
 ],
 "metadata": {
  "celltoolbar": "Tags",
  "hide_input": false,
  "interpreter": {
   "hash": "916dbcbb3f70747c44a77c7bcd40155683ae19c65e1c03b4aa3499c5328201f1"
  },
  "kernelspec": {
   "display_name": "Python 3.9.10 64-bit",
   "language": "python",
   "name": "python3"
  },
  "language_info": {
   "codemirror_mode": {
    "name": "ipython",
    "version": 3
   },
   "file_extension": ".py",
   "mimetype": "text/x-python",
   "name": "python",
   "nbconvert_exporter": "python",
   "pygments_lexer": "ipython3",
   "version": "3.9.10"
  },
  "toc": {
   "base_numbering": 1,
   "nav_menu": {
    "height": "318.996px",
    "width": "320.994px"
   },
   "number_sections": false,
   "sideBar": true,
   "skip_h1_title": false,
   "title_cell": "Table of Contents",
   "title_sidebar": "Contents",
   "toc_cell": false,
   "toc_position": {
    "height": "calc(100% - 180px)",
    "left": "10px",
    "top": "150px",
    "width": "165px"
   },
   "toc_section_display": true,
   "toc_window_display": true
  },
  "varInspector": {
   "cols": {
    "lenName": 16,
    "lenType": 16,
    "lenVar": 40
   },
   "kernels_config": {
    "python": {
     "delete_cmd_postfix": "",
     "delete_cmd_prefix": "del ",
     "library": "var_list.py",
     "varRefreshCmd": "print(var_dic_list())"
    },
    "r": {
     "delete_cmd_postfix": ") ",
     "delete_cmd_prefix": "rm(",
     "library": "var_list.r",
     "varRefreshCmd": "cat(var_dic_list()) "
    }
   },
   "position": {
    "height": "406.193px",
    "left": "1468.4px",
    "right": "20px",
    "top": "120px",
    "width": "456.572px"
   },
   "types_to_exclude": [
    "module",
    "function",
    "builtin_function_or_method",
    "instance",
    "_Feature"
   ],
   "window_display": false
  },
  "widgets": {
   "application/vnd.jupyter.widget-state+json": {
    "state": {},
    "version_major": 2,
    "version_minor": 0
   }
  }
 },
 "nbformat": 4,
 "nbformat_minor": 4
}
