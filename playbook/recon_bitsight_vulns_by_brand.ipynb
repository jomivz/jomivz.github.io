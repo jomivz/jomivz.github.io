{
 "cells": [
  {
   "cell_type": "code",
   "execution_count": null,
   "metadata": {
    "scrolled": true
   },
   "outputs": [],
   "source": [
    "# Imports\n",
    "import sys\n",
    "MIN_REQ_PYTHON = (3,9)\n",
    "if sys.version_info < MIN_REQ_PYTHON:\n",
    "    print('Check the Kernel->Change Kernel menu and ensure that Python 3.6')\n",
    "    print('or later is selected as the active kernel.')\n",
    "    sys.exit(\"Python %s.%s or later is required.\\n\" % MIN_REQ_PYTHON)\n",
    "\n",
    "import requests\n",
    "import datetime\n",
    "\n",
    "from requests.auth import HTTPBasicAuth\n",
    "\n",
    "import json\n",
    "import pandas as pd\n",
    "from pandas.io.json import json_normalize"
   ]
  },
  {
   "cell_type": "code",
   "execution_count": null,
   "metadata": {},
   "outputs": [],
   "source": [
    "# OPTION 1 : import the key api named 'bitsight' from the keyring manager\n",
    "# below the python cli (to execute once) create the api key : \n",
    "# >>> import keyring\n",
    "# >>> import readline\n",
    "# >>> keyring.set_password(service_name=\"bitsight\",username=\"None\",password=\"xxx\")\n",
    "# >>> readline.clear_history()\n",
    "import keyring\n",
    "keyring.get_keyring()\n",
    "bitsight_apikey = keyring.get_credential(\"bitsight\", \"None\")"
   ]
  },
  {
   "cell_type": "code",
   "execution_count": null,
   "metadata": {},
   "outputs": [],
   "source": [
    "# OPTION 2 : import the key api named from the environment variable \n",
    "import os\n",
    "bitsight_apikey = os.environ['BITSIGHT_API_KEY']"
   ]
  },
  {
   "cell_type": "code",
   "execution_count": null,
   "metadata": {},
   "outputs": [],
   "source": [
    "### PORTFOLIO: REQUEST A JSON WITH THE SUBSIDIARIES AND THE RELATIVE GUID ###\n",
    "bitsight_portfolio_url = \"https://api.bitsighttech.com/ratings/v2/portfolio\"\n",
    "jsonResponse = []\n",
    "\n",
    "try:\n",
    "    res = requests.post(url=bitsight_portfolio_url, verify=True, auth = HTTPBasicAuth(bitsight_apikey, ''))\n",
    "    jsonResponse = res.json()\n",
    "\n",
    "except requests.exceptions.SSLError as ssl_error:\n",
    "    inner_exception = ssl_error.args[0]\n",
    "    inner_ssl_error = inner_exception.reason.args[0]\n",
    "    if str(inner_ssl_error).find('SSL: CERTIFICATE_VERIFY_FAILED') == -1:\n",
    "        for key, value in vars(inner_ssl_error).items():\n",
    "            dnshost = value['subject'][0][0][1]\n",
    "            is_ssl_error = True\n",
    "            for alt in value['subjectAltName']:\n",
    "                if alt[0]==\"DNS\":\n",
    "                    san.append(alt[1])\n",
    "                pass\n",
    "            \n",
    "except Exception as e:\n",
    "    print(type(e))\n",
    "    print(e)\n",
    "                \n",
    "except requests.exceptions.RequestException as e:\n",
    "    print(\"Error: \", e)\n",
    "    pass\n",
    "            \n",
    "except urllib3.exceptions as e:\n",
    "    print(\"Error: \", e)\n",
    "    pass\n",
    "            \n",
    "except socket.gaierror as e:\n",
    "    print(\"Error: \", e)\n",
    "    pass"
   ]
  },
  {
   "cell_type": "code",
   "execution_count": null,
   "metadata": {},
   "outputs": [],
   "source": [
    "### PORTFOLIO: DISPLAY THE JSON RESPONSE\n",
    "jsonResponse"
   ]
  },
  {
   "cell_type": "code",
   "execution_count": null,
   "metadata": {},
   "outputs": [],
   "source": [
    "### PORTFOLIO: CREATE A DATAFRAME TO MAKE FURTHER OPERATIONS / REQUESTS ###\n",
    "jsonResponse = res.json()\n",
    "df1 = pd.json_normalize(\n",
    "    jsonResponse,\n",
    "    record_path=[['results'][0]])\n",
    "\n",
    "subsidiaries = pd.DataFrame(df1, columns=['name', 'guid', 'rating', 'rating_date'])\n",
    "subsidiaries.set_index('name', inplace=True)\n",
    "subsidiaries"
   ]
  },
  {
   "cell_type": "code",
   "execution_count": null,
   "metadata": {},
   "outputs": [],
   "source": [
    "### PORTFOLIO : EXAMPLE OF OPERATION : removing companies that are not subsidiaries \n",
    "subsidiaries.drop('Kering, Inc - Luxury Brands', inplace=True)\n",
    "subsidiaries.drop('Bank of America Corporation', inplace=True)\n",
    "subsidiaries.drop('SurveyMonkey Corporation', inplace=True)\n",
    "subsidiaries"
   ]
  },
  {
   "cell_type": "code",
   "execution_count": null,
   "metadata": {},
   "outputs": [],
   "source": [
    "### CSV VULNERABILITIES REPORT : ONE SUBSIDIARY 1/2\n",
    "company_guid = input(\"Enter the company GUID: \")\n",
    "bitsight_findings = \"https://api.bitsighttech.com/v1/companies/\" + company_guid + \"/findings\"\n",
    "jsonResponse = []\n",
    "\n",
    "try:\n",
    "    res = requests.post(url=bitsight_findings, verify=True, auth = HTTPBasicAuth(bitsight_apikey, '')) \n",
    "    jsonResponse = res.json()\n",
    "\n",
    "except requests.exceptions.SSLError as ssl_error:\n",
    "    inner_exception = ssl_error.args[0]\n",
    "    inner_ssl_error = inner_exception.reason.args[0]\n",
    "    if str(inner_ssl_error).find('SSL: CERTIFICATE_VERIFY_FAILED') == -1:\n",
    "        for key, value in vars(inner_ssl_error).items():\n",
    "            dnshost = value['subject'][0][0][1]\n",
    "            is_ssl_error = True\n",
    "            for alt in value['subjectAltName']:\n",
    "                if alt[0]==\"DNS\":\n",
    "                    san.append(alt[1])\n",
    "                pass\n",
    "            \n",
    "except Exception as e:\n",
    "    print(type(e))\n",
    "    print(e)\n",
    "                \n",
    "except requests.exceptions.RequestException as e:\n",
    "    print(\"Error: \", e)\n",
    "    pass\n",
    "            \n",
    "except urllib3.exceptions as e:\n",
    "    print(\"Error: \", e)\n",
    "    pass\n",
    "            \n",
    "except socket.gaierror as e:\n",
    "    print(\"Error: \", e)\n",
    "    pass"
   ]
  },
  {
   "cell_type": "code",
   "execution_count": null,
   "metadata": {
    "scrolled": true
   },
   "outputs": [],
   "source": [
    "### CSV VULNERABILITIES REPORT : ONE SUBSIDIARY 2/2\n",
    "vuln_report = pd.DataFrame(columns=['IP', 'port', 'CVE', 'CVSS','confidence'])\n",
    "iloc = 0\n",
    "\n",
    "for finding in jsonResponse['results']:   \n",
    "    for asset in finding['assets']:\n",
    "        if \"vulnerabilities\" in finding['details']:\n",
    "            for vuln in finding['details']['vulnerabilities']:\n",
    "                row = [asset['asset'],finding['details']['dest_port'],vuln['name'],vuln['cvss']['base'],vuln['confidence']]\n",
    "                vuln_report.loc[iloc] = row\n",
    "                iloc = iloc +1\n",
    "\n",
    "vuln_report"
   ]
  },
  {
   "cell_type": "code",
   "execution_count": null,
   "metadata": {},
   "outputs": [],
   "source": [
    "from pandasgui import show\n",
    "gui = show(vuln_report)"
   ]
  },
  {
   "cell_type": "code",
   "execution_count": null,
   "metadata": {},
   "outputs": [],
   "source": [
    "### CSV VULNERABILITIES REPORT : ONE SUBSIDIARY DEBUG\n",
    "jsonResponse"
   ]
  },
  {
   "cell_type": "code",
   "execution_count": null,
   "metadata": {},
   "outputs": [],
   "source": [
    "### CSV VULNERABILITIES REPORTS : FULL EXTRACT\n",
    "# DF that will be saved as CSV at the end of the iteration\n",
    "df_vulns = pd.DataFrame(columns=['asset', 'port', 'CVE', 'CVSS','confidence'])\n",
    "    \n",
    "# get_findings(): Get the bitsight findings in a json format, using requests lib\n",
    "# parameter 'sub': GUID of the subsidiary (got from the portfolio)\n",
    "def get_findings(sub, df_vulns):\n",
    "\n",
    "    bitsight_findings_url = \"https://api.bitsighttech.com/v1/companies/\" + sub + \"/findings\"\n",
    "\n",
    "    try:\n",
    "        res = requests.post(url=bitsight_findings_url, verify=True, auth = HTTPBasicAuth(bitsight_apikey, ''))\n",
    "        jsonResponse = res.json()\n",
    "        print(\"Count: \",jsonResponse['count'])\n",
    "        print(bitsight_findings_url)\n",
    "        df_vulns = get_vulns(jsonResponse, df_vulns)\n",
    "        bitsight_findings_url_next = jsonResponse['links']['next']\n",
    "\n",
    "        # while loop to iterate over the findings (if more than 100)\n",
    "        # get the vulnerabilities and append into the DF get_vulns\n",
    "        while bitsight_findings_url_next is not None:    \n",
    "\n",
    "            print(bitsight_findings_url_next)\n",
    "            try:\n",
    "                res = requests.post(url=bitsight_findings_url_next, verify=True, auth = HTTPBasicAuth(bitsight_apikey, ''))\n",
    "                jsonResponse = res.json()\n",
    "                df_vulns = get_vulns(jsonResponse, df_vulns)\n",
    "                bitsight_findings_url_next = jsonResponse['links']['next']\n",
    "            \n",
    "            except Exception as e:\n",
    "                print(type(e))\n",
    "                print(e)\n",
    "\n",
    "    except Exception as e:\n",
    "        print(type(e))\n",
    "        print(e)\n",
    "            \n",
    "# get_vulns(): Get the vulnerabilities from a findings page, append it to the DF vuln_report\n",
    "# parameter 'jsonResponse': json page of findings (default limit/offset is 100)\n",
    "# parameter 'vuln_report': DF used to store all vulnerabilities related to a subsidiary \n",
    "def get_vulns(jsonResponse,df_vulns):\n",
    "    iloc = len(df_vulns)\n",
    "    x = 0\n",
    "        \n",
    "    while x < len(jsonResponse['results']):  \n",
    "        for asset in jsonResponse['results'][x]['assets']:\n",
    "            if \"vulnerabilities\" in jsonResponse['results'][x]['details']:\n",
    "                for vuln in jsonResponse['results'][x]['details']['vulnerabilities']:\n",
    "                    if \"dest_port\" in jsonResponse['results'][x]['details']:\n",
    "                        row = [asset['asset'],jsonResponse['results'][x]['details']['dest_port'],vuln['name'],vuln['cvss']['base'],vuln['confidence']]\n",
    "                    else:\n",
    "                        row = [asset['asset'],'',vuln['name'],vuln['cvss'],vuln['confidence']]\n",
    "                    df_vulns.loc[iloc] = row\n",
    "                    iloc = iloc +1\n",
    "        x = x +1\n",
    "    \n",
    "    return df_vulns\n",
    "\n",
    "# foreach subsidiary in the portfolio: \n",
    "# 1/ get the vulns from the finding (while loop to pagination)\n",
    "# 2/ save it in a dedicated CSV\n",
    "for index,sub in subsidiaries['guid'].iteritems():\n",
    "\n",
    "    df_vulns_report = pd.DataFrame(columns=['asset', 'port', 'CVE', 'CVSS','confidence'])\n",
    "    get_findings(sub, df_vulns_report)\n",
    "    \n",
    "    # write the DF get_vulns in a CSV \n",
    "    pd.set_option('display.max_colwidth', None)            \n",
    "    current_date = datetime.datetime.now()\n",
    "    cdate = str(current_date.year) + str(current_date.month) + str(current_date.day)\n",
    "    input_file = \"bitsight_\" +  cdate +\"_\"+ sub  \n",
    "    df_vulns_report.to_csv(str(input_file + '.csv'))"
   ]
  }
 ],
 "metadata": {
  "celltoolbar": "Tags",
  "hide_input": false,
  "kernelspec": {
   "display_name": "Python 3.8.8 ('base')",
   "language": "python",
   "name": "python3"
  },
  "language_info": {
   "codemirror_mode": {
    "name": "ipython",
    "version": 3
   },
   "file_extension": ".py",
   "mimetype": "text/x-python",
   "name": "python",
   "nbconvert_exporter": "python",
   "pygments_lexer": "ipython3",
   "version": "3.8.8"
  },
  "toc": {
   "base_numbering": 1,
   "nav_menu": {
    "height": "318.996px",
    "width": "320.994px"
   },
   "number_sections": false,
   "sideBar": true,
   "skip_h1_title": false,
   "title_cell": "Table of Contents",
   "title_sidebar": "Contents",
   "toc_cell": false,
   "toc_position": {
    "height": "calc(100% - 180px)",
    "left": "10px",
    "top": "150px",
    "width": "165px"
   },
   "toc_section_display": true,
   "toc_window_display": true
  },
  "varInspector": {
   "cols": {
    "lenName": 16,
    "lenType": 16,
    "lenVar": 40
   },
   "kernels_config": {
    "python": {
     "delete_cmd_postfix": "",
     "delete_cmd_prefix": "del ",
     "library": "var_list.py",
     "varRefreshCmd": "print(var_dic_list())"
    },
    "r": {
     "delete_cmd_postfix": ") ",
     "delete_cmd_prefix": "rm(",
     "library": "var_list.r",
     "varRefreshCmd": "cat(var_dic_list()) "
    }
   },
   "position": {
    "height": "406.193px",
    "left": "1468.4px",
    "right": "20px",
    "top": "120px",
    "width": "456.572px"
   },
   "types_to_exclude": [
    "module",
    "function",
    "builtin_function_or_method",
    "instance",
    "_Feature"
   ],
   "window_display": false
  },
  "vscode": {
   "interpreter": {
    "hash": "7307bd6c5b0f4221b86148b5c729dd4788a5dc4445738a3debd1c90d91837807"
   }
  },
  "widgets": {
   "application/vnd.jupyter.widget-state+json": {
    "state": {},
    "version_major": 2,
    "version_minor": 0
   }
  }
 },
 "nbformat": 4,
 "nbformat_minor": 4
}
